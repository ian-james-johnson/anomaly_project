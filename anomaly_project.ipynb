{
 "cells": [
  {
   "cell_type": "markdown",
   "id": "5bf95883",
   "metadata": {},
   "source": [
    "# Anomaly Detection Project"
   ]
  },
  {
   "cell_type": "markdown",
   "id": "4ac9cbb3",
   "metadata": {},
   "source": [
    "Project Scenario\n",
    "\n",
    "Hello,\n",
    "\n",
    "I have some questions for you that I need to be answered before the board meeting Friday afternoon. I need to be able to speak to the following questions. I also need a single slide that I can incorporate into my existing presentation (Google Slides) that summarizes the most important points. My questions are listed below; however, if you discover anything else important that I didn’t think to ask, please include that as well.\n",
    "\n",
    "\n",
    "1. Which lesson appears to attract the most traffic consistently across cohorts (per program)?\n",
    "2. Is there a cohort that referred to a lesson significantly more than other cohorts seemed to gloss over?\n",
    "3. Are there students who, when active, hardly access the curriculum? If so, what information do you have about these students?\n",
    "4. Is there any suspicious activity, such as users/machines/etc accessing the curriculum who shouldn’t be? Does it appear that any web-scraping is happening? Are there any suspicious IP addresses?\n",
    "5. At some point in 2019, the ability for students and alumni to access both curriculums (web dev to ds, ds to web dev) should have been shut off. Do you see any evidence of that happening? Did it happen before?\n",
    "6. What topics are grads continuing to reference after graduation and into their jobs (for each program)?\n",
    "7. Which lessons are least accessed?\n",
    "8. Anything else I should be aware of?\n",
    "\n",
    "\n",
    "Thank you,\n",
    "\n",
    "---\n",
    "\n",
    "Other info:\n",
    "\n",
    "- To turn in your project, email datascience@codeup.com with the subject line \"Anomaly Detection Project\"\n",
    "- To get 100 on this project you only need to answer 5 out of the 7 questions (along with the other deliverables listed below i.e. slide, your notebook, etc).\n",
    "- Submit a link to a final notebook on GitHub that asks and answers questions - document the work you do to justify findings\n",
    "- Compose an email with the answers to the questions/your findings, and in the email, include the link to your notebook in GitHub and attach your slide.\n",
    "- You will not present this, so be sure that the details you need your leader to convey/understand are clearly communicated in the email.\n",
    "- Your slide should be like an executive summary and be in form to present.\n",
    "- Continue to use best practices of acquire.py, prepare.py, etc.\n",
    "- Since there is no modeling to be done for this project, there is no need to split the data into train/validate/test\n",
    "- The cohort schedule is in the SQL database, and alumni.codeup.com has info as well."
   ]
  },
  {
   "cell_type": "markdown",
   "id": "da8325ab",
   "metadata": {},
   "source": [
    "# Answers to Questions- Bottom Line Up Front\n",
    "### Question 1\n",
    "Which lesson appears to attract the most traffic consistently across cohorts (per program)? <br>\n",
    "#### Highest traffic lesson for each cohort <br> \n",
    "'PHP Full Srack Web Dev'  : javascript-i <br>\n",
    "'Java Full Stack Web Dev' : javascript-i <br>\n",
    "'Data Science'            : classification/overview <br>\n",
    "'Front End Web Dev'       : introduction.html (I am assuming the others are not lessons but were accessed for technical reasons) <br>\n",
    "### Question 2\n",
    "Which lessons are least accessed? <br>\n",
    "#### The lists of pages with the least amount of accessions are given in the section work\n",
    "- Out of 710 pages, 141 of those pages were only accessed once by 'PHP Full Srack Web Dev'\n",
    "- Out of 1913 pages, 420 of those pages were only accessed once by 'Java Full Stack Web Dev'\n",
    "- Out of 683 pages, 104 of those pages were only accessed once by 'Data Science'\n",
    "- For front end web dev, all were low. Content/html-css had two accesses and the other three pages only had one access.\n",
    "- Many of the least commonly accessed pages covered basics like functions or lists. These topics are reinforced throught the course, and a google search would probably give better answers to specific questions than a broad introduction page. When students encounter a bug, they will probably google the error message instead of returning to the curriculum.\n",
    "### Question 3\n",
    "What topics are grads continuing to reference after graduation and into their jobs (for each program)? <br>\n",
    "#### Alumni are continuing to reference the following topics after graduation:\n",
    "- 'PHP Full Srack Web Dev' alumni are coming back to javascript-i\n",
    "- 'Java Full Stack Web Dev' alumni are coming back to javascript-i\n",
    "- 'Data Science' alumni are coming back to sql/mysql-overview\n",
    "- 'Front End Web Dev' accessions all seem to be after graduation\n",
    "### Question 4\n",
    "Are there students who, when active, hardly access the curriculum? If so, what information do you have about these students? <br>\n",
    "#### Users who only accessed the curiculum once had an average enrollment period of less than one month.\n",
    "### Question 5\n",
    "Is there any suspicious activity, such as users/machines/etc accessing the curriculum who shouldn’t be? Does it appear that any web-scraping is happening? Are there any suspicious IP addresses? <br>\n",
    "- There are two anomalous ip addresses, which is defined as activity more than three standard deviations above the mean.\n",
    "- The likely explanation for the two anomalous ip addresses is that they belong to shared computers being used by multiple students over multiple cohorts.\n",
    "- I would recommend determining if these two machines belong to the school.\n",
    "\n"
   ]
  },
  {
   "cell_type": "markdown",
   "id": "70b297ed",
   "metadata": {},
   "source": [
    "# Plan\n",
    "This project will be conducted in accordance with a modified data science pipeline. <br>\n",
    "The model step is replaced with a Questions step. <br> <br>\n",
    "Acquire -> Prepare -> Explore -> Questions -> Deliver"
   ]
  },
  {
   "cell_type": "markdown",
   "id": "48a1ac20",
   "metadata": {},
   "source": [
    "# Acquire"
   ]
  },
  {
   "cell_type": "code",
   "execution_count": 66,
   "id": "d65206cf",
   "metadata": {},
   "outputs": [],
   "source": [
    "import numpy as np\n",
    "import pandas as pd\n",
    "import matplotlib.pyplot as plt\n",
    "import seaborn as sns\n",
    "\n",
    "import datetime as dt\n",
    "\n",
    "import statistics as stat\n",
    "\n",
    "import env\n",
    "import wrangle\n",
    "import os"
   ]
  },
  {
   "cell_type": "code",
   "execution_count": 2,
   "id": "99172cca",
   "metadata": {},
   "outputs": [
    {
     "data": {
      "text/html": [
       "<div>\n",
       "<style scoped>\n",
       "    .dataframe tbody tr th:only-of-type {\n",
       "        vertical-align: middle;\n",
       "    }\n",
       "\n",
       "    .dataframe tbody tr th {\n",
       "        vertical-align: top;\n",
       "    }\n",
       "\n",
       "    .dataframe thead th {\n",
       "        text-align: right;\n",
       "    }\n",
       "</style>\n",
       "<table border=\"1\" class=\"dataframe\">\n",
       "  <thead>\n",
       "    <tr style=\"text-align: right;\">\n",
       "      <th></th>\n",
       "      <th>Unnamed: 0</th>\n",
       "      <th>date</th>\n",
       "      <th>time</th>\n",
       "      <th>path</th>\n",
       "      <th>user_id</th>\n",
       "      <th>cohort_id</th>\n",
       "      <th>ip</th>\n",
       "      <th>id</th>\n",
       "      <th>name</th>\n",
       "      <th>slack</th>\n",
       "      <th>start_date</th>\n",
       "      <th>end_date</th>\n",
       "      <th>created_at</th>\n",
       "      <th>updated_at</th>\n",
       "      <th>deleted_at</th>\n",
       "      <th>program_id</th>\n",
       "    </tr>\n",
       "  </thead>\n",
       "  <tbody>\n",
       "    <tr>\n",
       "      <th>0</th>\n",
       "      <td>0</td>\n",
       "      <td>2018-01-26</td>\n",
       "      <td>09:55:03</td>\n",
       "      <td>/</td>\n",
       "      <td>1</td>\n",
       "      <td>8.0</td>\n",
       "      <td>97.105.19.61</td>\n",
       "      <td>8.0</td>\n",
       "      <td>Hampton</td>\n",
       "      <td>#hampton</td>\n",
       "      <td>2015-09-22</td>\n",
       "      <td>2016-02-06</td>\n",
       "      <td>2016-06-14 19:52:26</td>\n",
       "      <td>2016-06-14 19:52:26</td>\n",
       "      <td>NaN</td>\n",
       "      <td>1.0</td>\n",
       "    </tr>\n",
       "    <tr>\n",
       "      <th>1</th>\n",
       "      <td>1</td>\n",
       "      <td>2018-01-26</td>\n",
       "      <td>09:56:02</td>\n",
       "      <td>java-ii</td>\n",
       "      <td>1</td>\n",
       "      <td>8.0</td>\n",
       "      <td>97.105.19.61</td>\n",
       "      <td>8.0</td>\n",
       "      <td>Hampton</td>\n",
       "      <td>#hampton</td>\n",
       "      <td>2015-09-22</td>\n",
       "      <td>2016-02-06</td>\n",
       "      <td>2016-06-14 19:52:26</td>\n",
       "      <td>2016-06-14 19:52:26</td>\n",
       "      <td>NaN</td>\n",
       "      <td>1.0</td>\n",
       "    </tr>\n",
       "    <tr>\n",
       "      <th>2</th>\n",
       "      <td>2</td>\n",
       "      <td>2018-01-26</td>\n",
       "      <td>09:56:05</td>\n",
       "      <td>java-ii/object-oriented-programming</td>\n",
       "      <td>1</td>\n",
       "      <td>8.0</td>\n",
       "      <td>97.105.19.61</td>\n",
       "      <td>8.0</td>\n",
       "      <td>Hampton</td>\n",
       "      <td>#hampton</td>\n",
       "      <td>2015-09-22</td>\n",
       "      <td>2016-02-06</td>\n",
       "      <td>2016-06-14 19:52:26</td>\n",
       "      <td>2016-06-14 19:52:26</td>\n",
       "      <td>NaN</td>\n",
       "      <td>1.0</td>\n",
       "    </tr>\n",
       "    <tr>\n",
       "      <th>3</th>\n",
       "      <td>3</td>\n",
       "      <td>2018-01-26</td>\n",
       "      <td>09:56:06</td>\n",
       "      <td>slides/object_oriented_programming</td>\n",
       "      <td>1</td>\n",
       "      <td>8.0</td>\n",
       "      <td>97.105.19.61</td>\n",
       "      <td>8.0</td>\n",
       "      <td>Hampton</td>\n",
       "      <td>#hampton</td>\n",
       "      <td>2015-09-22</td>\n",
       "      <td>2016-02-06</td>\n",
       "      <td>2016-06-14 19:52:26</td>\n",
       "      <td>2016-06-14 19:52:26</td>\n",
       "      <td>NaN</td>\n",
       "      <td>1.0</td>\n",
       "    </tr>\n",
       "    <tr>\n",
       "      <th>4</th>\n",
       "      <td>4</td>\n",
       "      <td>2018-01-26</td>\n",
       "      <td>09:56:24</td>\n",
       "      <td>javascript-i/conditionals</td>\n",
       "      <td>2</td>\n",
       "      <td>22.0</td>\n",
       "      <td>97.105.19.61</td>\n",
       "      <td>22.0</td>\n",
       "      <td>Teddy</td>\n",
       "      <td>#teddy</td>\n",
       "      <td>2018-01-08</td>\n",
       "      <td>2018-05-17</td>\n",
       "      <td>2018-01-08 13:59:10</td>\n",
       "      <td>2018-01-08 13:59:10</td>\n",
       "      <td>NaN</td>\n",
       "      <td>2.0</td>\n",
       "    </tr>\n",
       "  </tbody>\n",
       "</table>\n",
       "</div>"
      ],
      "text/plain": [
       "   Unnamed: 0        date      time                                 path  \\\n",
       "0           0  2018-01-26  09:55:03                                    /   \n",
       "1           1  2018-01-26  09:56:02                              java-ii   \n",
       "2           2  2018-01-26  09:56:05  java-ii/object-oriented-programming   \n",
       "3           3  2018-01-26  09:56:06   slides/object_oriented_programming   \n",
       "4           4  2018-01-26  09:56:24            javascript-i/conditionals   \n",
       "\n",
       "   user_id  cohort_id            ip    id     name     slack  start_date  \\\n",
       "0        1        8.0  97.105.19.61   8.0  Hampton  #hampton  2015-09-22   \n",
       "1        1        8.0  97.105.19.61   8.0  Hampton  #hampton  2015-09-22   \n",
       "2        1        8.0  97.105.19.61   8.0  Hampton  #hampton  2015-09-22   \n",
       "3        1        8.0  97.105.19.61   8.0  Hampton  #hampton  2015-09-22   \n",
       "4        2       22.0  97.105.19.61  22.0    Teddy    #teddy  2018-01-08   \n",
       "\n",
       "     end_date           created_at           updated_at  deleted_at  \\\n",
       "0  2016-02-06  2016-06-14 19:52:26  2016-06-14 19:52:26         NaN   \n",
       "1  2016-02-06  2016-06-14 19:52:26  2016-06-14 19:52:26         NaN   \n",
       "2  2016-02-06  2016-06-14 19:52:26  2016-06-14 19:52:26         NaN   \n",
       "3  2016-02-06  2016-06-14 19:52:26  2016-06-14 19:52:26         NaN   \n",
       "4  2018-05-17  2018-01-08 13:59:10  2018-01-08 13:59:10         NaN   \n",
       "\n",
       "   program_id  \n",
       "0         1.0  \n",
       "1         1.0  \n",
       "2         1.0  \n",
       "3         1.0  \n",
       "4         2.0  "
      ]
     },
     "execution_count": 2,
     "metadata": {},
     "output_type": "execute_result"
    }
   ],
   "source": [
    "df = wrangle.get_logs()\n",
    "df.head()"
   ]
  },
  {
   "cell_type": "code",
   "execution_count": 3,
   "id": "255d0c3c",
   "metadata": {},
   "outputs": [
    {
     "name": "stdout",
     "output_type": "stream",
     "text": [
      "<class 'pandas.core.frame.DataFrame'>\n",
      "RangeIndex: 900223 entries, 0 to 900222\n",
      "Data columns (total 16 columns):\n",
      " #   Column      Non-Null Count   Dtype  \n",
      "---  ------      --------------   -----  \n",
      " 0   Unnamed: 0  900223 non-null  int64  \n",
      " 1   date        900223 non-null  object \n",
      " 2   time        900223 non-null  object \n",
      " 3   path        900222 non-null  object \n",
      " 4   user_id     900223 non-null  int64  \n",
      " 5   cohort_id   847330 non-null  float64\n",
      " 6   ip          900223 non-null  object \n",
      " 7   id          847330 non-null  float64\n",
      " 8   name        847330 non-null  object \n",
      " 9   slack       847330 non-null  object \n",
      " 10  start_date  847330 non-null  object \n",
      " 11  end_date    847330 non-null  object \n",
      " 12  created_at  847330 non-null  object \n",
      " 13  updated_at  847330 non-null  object \n",
      " 14  deleted_at  0 non-null       float64\n",
      " 15  program_id  847330 non-null  float64\n",
      "dtypes: float64(4), int64(2), object(10)\n",
      "memory usage: 109.9+ MB\n"
     ]
    }
   ],
   "source": [
    "df.info()"
   ]
  },
  {
   "cell_type": "markdown",
   "id": "a619a648",
   "metadata": {},
   "source": [
    "### Takeaways from Acquire\n",
    "- Date and time are separate columns\n",
    "- Temporal columns are strings\n",
    "- Program id but no program names\n",
    "- Some columns do not appear useful (deleted_at is full of nulls, Unnamed: 0 seems to match the index)\n",
    "- Some null values"
   ]
  },
  {
   "cell_type": "markdown",
   "id": "03190f63",
   "metadata": {},
   "source": [
    "# Prepare"
   ]
  },
  {
   "cell_type": "code",
   "execution_count": 4,
   "id": "412e28dc",
   "metadata": {},
   "outputs": [
    {
     "data": {
      "text/html": [
       "<div>\n",
       "<style scoped>\n",
       "    .dataframe tbody tr th:only-of-type {\n",
       "        vertical-align: middle;\n",
       "    }\n",
       "\n",
       "    .dataframe tbody tr th {\n",
       "        vertical-align: top;\n",
       "    }\n",
       "\n",
       "    .dataframe thead th {\n",
       "        text-align: right;\n",
       "    }\n",
       "</style>\n",
       "<table border=\"1\" class=\"dataframe\">\n",
       "  <thead>\n",
       "    <tr style=\"text-align: right;\">\n",
       "      <th></th>\n",
       "      <th>date</th>\n",
       "      <th>time</th>\n",
       "      <th>path</th>\n",
       "      <th>user_id</th>\n",
       "      <th>cohort_id</th>\n",
       "      <th>ip</th>\n",
       "      <th>id</th>\n",
       "      <th>name</th>\n",
       "      <th>slack</th>\n",
       "      <th>start_date</th>\n",
       "      <th>end_date</th>\n",
       "      <th>created_at</th>\n",
       "      <th>updated_at</th>\n",
       "      <th>program_id</th>\n",
       "      <th>course_name</th>\n",
       "      <th>course_subdomain</th>\n",
       "      <th>hour</th>\n",
       "      <th>weekday</th>\n",
       "    </tr>\n",
       "    <tr>\n",
       "      <th>datetime</th>\n",
       "      <th></th>\n",
       "      <th></th>\n",
       "      <th></th>\n",
       "      <th></th>\n",
       "      <th></th>\n",
       "      <th></th>\n",
       "      <th></th>\n",
       "      <th></th>\n",
       "      <th></th>\n",
       "      <th></th>\n",
       "      <th></th>\n",
       "      <th></th>\n",
       "      <th></th>\n",
       "      <th></th>\n",
       "      <th></th>\n",
       "      <th></th>\n",
       "      <th></th>\n",
       "      <th></th>\n",
       "    </tr>\n",
       "  </thead>\n",
       "  <tbody>\n",
       "    <tr>\n",
       "      <th>2018-01-26 09:55:03-06:00</th>\n",
       "      <td>2018-01-26</td>\n",
       "      <td>09:55:03</td>\n",
       "      <td>/</td>\n",
       "      <td>1</td>\n",
       "      <td>8.0</td>\n",
       "      <td>97.105.19.61</td>\n",
       "      <td>8.0</td>\n",
       "      <td>Hampton</td>\n",
       "      <td>#hampton</td>\n",
       "      <td>2015-09-22</td>\n",
       "      <td>2016-02-06</td>\n",
       "      <td>2016-06-14 19:52:26</td>\n",
       "      <td>2016-06-14 19:52:26</td>\n",
       "      <td>1.0</td>\n",
       "      <td>PHP Full Srack Web Dev</td>\n",
       "      <td>php</td>\n",
       "      <td>9</td>\n",
       "      <td>Friday</td>\n",
       "    </tr>\n",
       "    <tr>\n",
       "      <th>2018-01-26 09:56:02-06:00</th>\n",
       "      <td>2018-01-26</td>\n",
       "      <td>09:56:02</td>\n",
       "      <td>java-ii</td>\n",
       "      <td>1</td>\n",
       "      <td>8.0</td>\n",
       "      <td>97.105.19.61</td>\n",
       "      <td>8.0</td>\n",
       "      <td>Hampton</td>\n",
       "      <td>#hampton</td>\n",
       "      <td>2015-09-22</td>\n",
       "      <td>2016-02-06</td>\n",
       "      <td>2016-06-14 19:52:26</td>\n",
       "      <td>2016-06-14 19:52:26</td>\n",
       "      <td>1.0</td>\n",
       "      <td>PHP Full Srack Web Dev</td>\n",
       "      <td>php</td>\n",
       "      <td>9</td>\n",
       "      <td>Friday</td>\n",
       "    </tr>\n",
       "    <tr>\n",
       "      <th>2018-01-26 09:56:05-06:00</th>\n",
       "      <td>2018-01-26</td>\n",
       "      <td>09:56:05</td>\n",
       "      <td>java-ii/object-oriented-programming</td>\n",
       "      <td>1</td>\n",
       "      <td>8.0</td>\n",
       "      <td>97.105.19.61</td>\n",
       "      <td>8.0</td>\n",
       "      <td>Hampton</td>\n",
       "      <td>#hampton</td>\n",
       "      <td>2015-09-22</td>\n",
       "      <td>2016-02-06</td>\n",
       "      <td>2016-06-14 19:52:26</td>\n",
       "      <td>2016-06-14 19:52:26</td>\n",
       "      <td>1.0</td>\n",
       "      <td>PHP Full Srack Web Dev</td>\n",
       "      <td>php</td>\n",
       "      <td>9</td>\n",
       "      <td>Friday</td>\n",
       "    </tr>\n",
       "    <tr>\n",
       "      <th>2018-01-26 09:56:06-06:00</th>\n",
       "      <td>2018-01-26</td>\n",
       "      <td>09:56:06</td>\n",
       "      <td>slides/object_oriented_programming</td>\n",
       "      <td>1</td>\n",
       "      <td>8.0</td>\n",
       "      <td>97.105.19.61</td>\n",
       "      <td>8.0</td>\n",
       "      <td>Hampton</td>\n",
       "      <td>#hampton</td>\n",
       "      <td>2015-09-22</td>\n",
       "      <td>2016-02-06</td>\n",
       "      <td>2016-06-14 19:52:26</td>\n",
       "      <td>2016-06-14 19:52:26</td>\n",
       "      <td>1.0</td>\n",
       "      <td>PHP Full Srack Web Dev</td>\n",
       "      <td>php</td>\n",
       "      <td>9</td>\n",
       "      <td>Friday</td>\n",
       "    </tr>\n",
       "    <tr>\n",
       "      <th>2018-01-26 09:56:24-06:00</th>\n",
       "      <td>2018-01-26</td>\n",
       "      <td>09:56:24</td>\n",
       "      <td>javascript-i/conditionals</td>\n",
       "      <td>2</td>\n",
       "      <td>22.0</td>\n",
       "      <td>97.105.19.61</td>\n",
       "      <td>22.0</td>\n",
       "      <td>Teddy</td>\n",
       "      <td>#teddy</td>\n",
       "      <td>2018-01-08</td>\n",
       "      <td>2018-05-17</td>\n",
       "      <td>2018-01-08 13:59:10</td>\n",
       "      <td>2018-01-08 13:59:10</td>\n",
       "      <td>2.0</td>\n",
       "      <td>Java Full Stack Web Dev</td>\n",
       "      <td>java</td>\n",
       "      <td>9</td>\n",
       "      <td>Friday</td>\n",
       "    </tr>\n",
       "  </tbody>\n",
       "</table>\n",
       "</div>"
      ],
      "text/plain": [
       "                                 date      time  \\\n",
       "datetime                                          \n",
       "2018-01-26 09:55:03-06:00  2018-01-26  09:55:03   \n",
       "2018-01-26 09:56:02-06:00  2018-01-26  09:56:02   \n",
       "2018-01-26 09:56:05-06:00  2018-01-26  09:56:05   \n",
       "2018-01-26 09:56:06-06:00  2018-01-26  09:56:06   \n",
       "2018-01-26 09:56:24-06:00  2018-01-26  09:56:24   \n",
       "\n",
       "                                                          path  user_id  \\\n",
       "datetime                                                                  \n",
       "2018-01-26 09:55:03-06:00                                    /        1   \n",
       "2018-01-26 09:56:02-06:00                              java-ii        1   \n",
       "2018-01-26 09:56:05-06:00  java-ii/object-oriented-programming        1   \n",
       "2018-01-26 09:56:06-06:00   slides/object_oriented_programming        1   \n",
       "2018-01-26 09:56:24-06:00            javascript-i/conditionals        2   \n",
       "\n",
       "                           cohort_id            ip    id     name     slack  \\\n",
       "datetime                                                                      \n",
       "2018-01-26 09:55:03-06:00        8.0  97.105.19.61   8.0  Hampton  #hampton   \n",
       "2018-01-26 09:56:02-06:00        8.0  97.105.19.61   8.0  Hampton  #hampton   \n",
       "2018-01-26 09:56:05-06:00        8.0  97.105.19.61   8.0  Hampton  #hampton   \n",
       "2018-01-26 09:56:06-06:00        8.0  97.105.19.61   8.0  Hampton  #hampton   \n",
       "2018-01-26 09:56:24-06:00       22.0  97.105.19.61  22.0    Teddy    #teddy   \n",
       "\n",
       "                          start_date   end_date           created_at  \\\n",
       "datetime                                                               \n",
       "2018-01-26 09:55:03-06:00 2015-09-22 2016-02-06  2016-06-14 19:52:26   \n",
       "2018-01-26 09:56:02-06:00 2015-09-22 2016-02-06  2016-06-14 19:52:26   \n",
       "2018-01-26 09:56:05-06:00 2015-09-22 2016-02-06  2016-06-14 19:52:26   \n",
       "2018-01-26 09:56:06-06:00 2015-09-22 2016-02-06  2016-06-14 19:52:26   \n",
       "2018-01-26 09:56:24-06:00 2018-01-08 2018-05-17  2018-01-08 13:59:10   \n",
       "\n",
       "                                    updated_at  program_id  \\\n",
       "datetime                                                     \n",
       "2018-01-26 09:55:03-06:00  2016-06-14 19:52:26         1.0   \n",
       "2018-01-26 09:56:02-06:00  2016-06-14 19:52:26         1.0   \n",
       "2018-01-26 09:56:05-06:00  2016-06-14 19:52:26         1.0   \n",
       "2018-01-26 09:56:06-06:00  2016-06-14 19:52:26         1.0   \n",
       "2018-01-26 09:56:24-06:00  2018-01-08 13:59:10         2.0   \n",
       "\n",
       "                                       course_name course_subdomain  hour  \\\n",
       "datetime                                                                    \n",
       "2018-01-26 09:55:03-06:00   PHP Full Srack Web Dev              php     9   \n",
       "2018-01-26 09:56:02-06:00   PHP Full Srack Web Dev              php     9   \n",
       "2018-01-26 09:56:05-06:00   PHP Full Srack Web Dev              php     9   \n",
       "2018-01-26 09:56:06-06:00   PHP Full Srack Web Dev              php     9   \n",
       "2018-01-26 09:56:24-06:00  Java Full Stack Web Dev             java     9   \n",
       "\n",
       "                          weekday  \n",
       "datetime                           \n",
       "2018-01-26 09:55:03-06:00  Friday  \n",
       "2018-01-26 09:56:02-06:00  Friday  \n",
       "2018-01-26 09:56:05-06:00  Friday  \n",
       "2018-01-26 09:56:06-06:00  Friday  \n",
       "2018-01-26 09:56:24-06:00  Friday  "
      ]
     },
     "execution_count": 4,
     "metadata": {},
     "output_type": "execute_result"
    }
   ],
   "source": [
    "df = wrangle.prepare_df(df)\n",
    "df.head()"
   ]
  },
  {
   "cell_type": "code",
   "execution_count": 5,
   "id": "a754b35c",
   "metadata": {},
   "outputs": [
    {
     "name": "stdout",
     "output_type": "stream",
     "text": [
      "<class 'pandas.core.frame.DataFrame'>\n",
      "DatetimeIndex: 900223 entries, 2018-01-26 09:55:03-06:00 to 2021-04-21 16:44:39-05:00\n",
      "Data columns (total 18 columns):\n",
      " #   Column            Non-Null Count   Dtype         \n",
      "---  ------            --------------   -----         \n",
      " 0   date              900223 non-null  object        \n",
      " 1   time              900223 non-null  object        \n",
      " 2   path              900222 non-null  object        \n",
      " 3   user_id           900223 non-null  int64         \n",
      " 4   cohort_id         847330 non-null  float64       \n",
      " 5   ip                900223 non-null  object        \n",
      " 6   id                847330 non-null  float64       \n",
      " 7   name              847330 non-null  object        \n",
      " 8   slack             847330 non-null  object        \n",
      " 9   start_date        847330 non-null  datetime64[ns]\n",
      " 10  end_date          847330 non-null  datetime64[ns]\n",
      " 11  created_at        847330 non-null  object        \n",
      " 12  updated_at        847330 non-null  object        \n",
      " 13  program_id        847330 non-null  float64       \n",
      " 14  course_name       847330 non-null  object        \n",
      " 15  course_subdomain  847330 non-null  object        \n",
      " 16  hour              900223 non-null  int64         \n",
      " 17  weekday           900223 non-null  object        \n",
      "dtypes: datetime64[ns](2), float64(3), int64(2), object(11)\n",
      "memory usage: 130.5+ MB\n"
     ]
    }
   ],
   "source": [
    "df.info()"
   ]
  },
  {
   "cell_type": "markdown",
   "id": "3ba1fe90",
   "metadata": {},
   "source": [
    "### Takeaways from Prepare\n",
    "- Date and Time columins combined into datetime\n",
    "- datetime, start_date, end_date converted into datetime type\n",
    "- Dropped Unnamed: 0 and deleted_at columns\n",
    "- Added column for program names matching program_id\n",
    "- Add hour and weekday columns"
   ]
  },
  {
   "cell_type": "markdown",
   "id": "830d184c",
   "metadata": {},
   "source": [
    "# Explore"
   ]
  },
  {
   "cell_type": "code",
   "execution_count": 6,
   "id": "3b5b162d",
   "metadata": {},
   "outputs": [
    {
     "data": {
      "text/plain": [
       "<AxesSubplot:ylabel='Frequency'>"
      ]
     },
     "execution_count": 6,
     "metadata": {},
     "output_type": "execute_result"
    },
    {
     "data": {
      "image/png": "[encoded data removed]",
      "text/plain": [
       "<Figure size 432x288 with 1 Axes>"
      ]
     },
     "metadata": {
      "needs_background": "light"
     },
     "output_type": "display_data"
    }
   ],
   "source": [
    "df.hour.plot(kind='hist')"
   ]
  },
  {
   "cell_type": "code",
   "execution_count": 7,
   "id": "f216b4da",
   "metadata": {},
   "outputs": [
    {
     "data": {
      "text/plain": [
       "<AxesSubplot:>"
      ]
     },
     "execution_count": 7,
     "metadata": {},
     "output_type": "execute_result"
    },
    {
     "data": {
      "image/png": "[encoded data removed]",
      "text/plain": [
       "<Figure size 432x288 with 1 Axes>"
      ]
     },
     "metadata": {
      "needs_background": "light"
     },
     "output_type": "display_data"
    }
   ],
   "source": [
    "# At least one late night outlier\n",
    "# At least three early morning outliers\n",
    "df.hour.plot(kind='box')"
   ]
  },
  {
   "cell_type": "code",
   "execution_count": 8,
   "id": "6f9ad36f",
   "metadata": {},
   "outputs": [
    {
     "data": {
      "text/plain": [
       "<seaborn.axisgrid.PairGrid at 0x7fbd2049c400>"
      ]
     },
     "execution_count": 8,
     "metadata": {},
     "output_type": "execute_result"
    },
    {
     "data": {
      "image/png": "[encoded data removed]",
      "text/plain": [
       "<Figure size 900x900 with 30 Axes>"
      ]
     },
     "metadata": {
      "needs_background": "light"
     },
     "output_type": "display_data"
    }
   ],
   "source": [
    "sns.pairplot(df)"
   ]
  },
  {
   "cell_type": "code",
   "execution_count": 9,
   "id": "ffa8d198",
   "metadata": {},
   "outputs": [
    {
     "data": {
      "text/plain": [
       "Staff         84031\n",
       "Ceres         40730\n",
       "Zion          38096\n",
       "Jupiter       37109\n",
       "Fortuna       36902\n",
       "Voyageurs     35636\n",
       "Ganymede      33844\n",
       "Apex          33568\n",
       "Deimos        32888\n",
       "Darden        32015\n",
       "Teddy         30926\n",
       "Hyperion      29855\n",
       "Betelgeuse    29356\n",
       "Ulysses       28534\n",
       "Europa        28033\n",
       "Xanadu        27749\n",
       "Bayes         26538\n",
       "Wrangell      25586\n",
       "Andromeda     25359\n",
       "Kalypso       23691\n",
       "Curie         21582\n",
       "Yosemite      20743\n",
       "Bash          17713\n",
       "Luna          16623\n",
       "Marco         16397\n",
       "Easley        14715\n",
       "Lassen         9587\n",
       "Arches         8890\n",
       "Florence       8562\n",
       "Sequoia        7444\n",
       "Neptune        7276\n",
       "Olympic        4954\n",
       "Kings          2845\n",
       "Pinnacles      2158\n",
       "Hampton        1712\n",
       "Oberon         1672\n",
       "Quincy         1237\n",
       "Niagara         755\n",
       "Mammoth         691\n",
       "Glacier         598\n",
       "Joshua          302\n",
       "Ike             253\n",
       "Badlands         93\n",
       "Franklin         72\n",
       "Apollo            5\n",
       "Denali            4\n",
       "Everglades        1\n",
       "Name: name, dtype: int64"
      ]
     },
     "execution_count": 9,
     "metadata": {},
     "output_type": "execute_result"
    }
   ],
   "source": [
    "# Big difference in traffic by cohort\n",
    "df.name.value_counts()"
   ]
  },
  {
   "cell_type": "code",
   "execution_count": 10,
   "id": "c5488edd",
   "metadata": {},
   "outputs": [
    {
     "data": {
      "text/plain": [
       "Java Full Stack Web Dev    713365\n",
       "Data Science               103412\n",
       "PHP Full Srack Web Dev      30548\n",
       "Front End Web Dev               5\n",
       "Name: course_name, dtype: int64"
      ]
     },
     "execution_count": 10,
     "metadata": {},
     "output_type": "execute_result"
    }
   ],
   "source": [
    "# Front end web dev has an unusually low count compared to other courses\n",
    "# Perhaps it is for staff? A one-off? Something else?\n",
    "df.course_name.value_counts()"
   ]
  },
  {
   "cell_type": "code",
   "execution_count": 11,
   "id": "5a6cef40",
   "metadata": {},
   "outputs": [
    {
     "data": {
      "text/plain": [
       "/                                  50313\n",
       "search/search_index.json           19519\n",
       "javascript-i                       18983\n",
       "toc                                18297\n",
       "java-iii                           13733\n",
       "                                   ...  \n",
       "content/examples/php/while.html        1\n",
       "interview-questions                    1\n",
       "students/743/notes                     1\n",
       "6-stats                                1\n",
       "10-nlp/entity-labeling                 1\n",
       "Name: path, Length: 2313, dtype: int64"
      ]
     },
     "execution_count": 11,
     "metadata": {},
     "output_type": "execute_result"
    }
   ],
   "source": [
    "# path is the page for a lesson\n",
    "# some lessons are frequently accessed, and some lessons are rarely accessed\n",
    "df.path.value_counts()"
   ]
  },
  {
   "cell_type": "code",
   "execution_count": 12,
   "id": "af2bc011",
   "metadata": {},
   "outputs": [
    {
     "data": {
      "text/plain": [
       "2313"
      ]
     },
     "execution_count": 12,
     "metadata": {},
     "output_type": "execute_result"
    }
   ],
   "source": [
    "# Number of unique lessons\n",
    "df.path.nunique()"
   ]
  },
  {
   "cell_type": "code",
   "execution_count": 13,
   "id": "07a50b7a",
   "metadata": {},
   "outputs": [
    {
     "data": {
      "text/plain": [
       "0.17736394865304647"
      ]
     },
     "execution_count": 13,
     "metadata": {},
     "output_type": "execute_result"
    }
   ],
   "source": [
    "# Many users have multiple ip addresses\n",
    "len(df.user_id.unique()) / len(df.ip.unique())"
   ]
  },
  {
   "cell_type": "markdown",
   "id": "42f643f3",
   "metadata": {},
   "source": [
    "### Takeaways from Explore\n",
    "- Many numeric columns have lots of big outliers.\n",
    "- Traffic is heaviest during late afternoon and eary evening.\n",
    "- Some lessons are frequently accessed, while others are rarely accessed.\n",
    "- More ip addresses than users, showing that a single user can have multiple computers.\n",
    "- Front end web dev has a very small amount of records compared to the other programs."
   ]
  },
  {
   "cell_type": "markdown",
   "id": "52ff1915",
   "metadata": {},
   "source": [
    "# Questions"
   ]
  },
  {
   "cell_type": "markdown",
   "id": "a95aa0bc",
   "metadata": {},
   "source": [
    "### 1. Which lesson appears to attract the most traffic consistently across cohorts (per program)?"
   ]
  },
  {
   "cell_type": "code",
   "execution_count": 14,
   "id": "1eb08c62",
   "metadata": {},
   "outputs": [
    {
     "data": {
      "text/plain": [
       "<AxesSubplot:title={'center':'Top 10 Pages for All Programs'}>"
      ]
     },
     "execution_count": 14,
     "metadata": {},
     "output_type": "execute_result"
    },
    {
     "data": {
      "image/png": "[encoded data removed]",
      "text/plain": [
       "<Figure size 432x288 with 1 Axes>"
      ]
     },
     "metadata": {
      "needs_background": "light"
     },
     "output_type": "display_data"
    }
   ],
   "source": [
    "# most traffic across all programs\n",
    "df.path.value_counts().sort_values().tail(10).plot.bar(title='Top 10 Pages for All Programs')"
   ]
  },
  {
   "cell_type": "code",
   "execution_count": 15,
   "id": "c10bad7e",
   "metadata": {},
   "outputs": [
    {
     "data": {
      "text/html": [
       "<div>\n",
       "<style scoped>\n",
       "    .dataframe tbody tr th:only-of-type {\n",
       "        vertical-align: middle;\n",
       "    }\n",
       "\n",
       "    .dataframe tbody tr th {\n",
       "        vertical-align: top;\n",
       "    }\n",
       "\n",
       "    .dataframe thead th {\n",
       "        text-align: right;\n",
       "    }\n",
       "</style>\n",
       "<table border=\"1\" class=\"dataframe\">\n",
       "  <thead>\n",
       "    <tr style=\"text-align: right;\">\n",
       "      <th></th>\n",
       "      <th>count</th>\n",
       "      <th>probability</th>\n",
       "    </tr>\n",
       "  </thead>\n",
       "  <tbody>\n",
       "    <tr>\n",
       "      <th>/</th>\n",
       "      <td>1681</td>\n",
       "      <td>0.055028</td>\n",
       "    </tr>\n",
       "    <tr>\n",
       "      <th>index.html</th>\n",
       "      <td>1011</td>\n",
       "      <td>0.033095</td>\n",
       "    </tr>\n",
       "    <tr>\n",
       "      <th>javascript-i</th>\n",
       "      <td>736</td>\n",
       "      <td>0.024093</td>\n",
       "    </tr>\n",
       "    <tr>\n",
       "      <th>html-css</th>\n",
       "      <td>542</td>\n",
       "      <td>0.017743</td>\n",
       "    </tr>\n",
       "    <tr>\n",
       "      <th>spring</th>\n",
       "      <td>501</td>\n",
       "      <td>0.016400</td>\n",
       "    </tr>\n",
       "    <tr>\n",
       "      <th>java-iii</th>\n",
       "      <td>479</td>\n",
       "      <td>0.015680</td>\n",
       "    </tr>\n",
       "    <tr>\n",
       "      <th>java-ii</th>\n",
       "      <td>454</td>\n",
       "      <td>0.014862</td>\n",
       "    </tr>\n",
       "    <tr>\n",
       "      <th>java-i</th>\n",
       "      <td>444</td>\n",
       "      <td>0.014535</td>\n",
       "    </tr>\n",
       "    <tr>\n",
       "      <th>javascript-ii</th>\n",
       "      <td>429</td>\n",
       "      <td>0.014043</td>\n",
       "    </tr>\n",
       "    <tr>\n",
       "      <th>appendix</th>\n",
       "      <td>409</td>\n",
       "      <td>0.013389</td>\n",
       "    </tr>\n",
       "  </tbody>\n",
       "</table>\n",
       "</div>"
      ],
      "text/plain": [
       "               count  probability\n",
       "/               1681     0.055028\n",
       "index.html      1011     0.033095\n",
       "javascript-i     736     0.024093\n",
       "html-css         542     0.017743\n",
       "spring           501     0.016400\n",
       "java-iii         479     0.015680\n",
       "java-ii          454     0.014862\n",
       "java-i           444     0.014535\n",
       "javascript-ii    429     0.014043\n",
       "appendix         409     0.013389"
      ]
     },
     "execution_count": 15,
     "metadata": {},
     "output_type": "execute_result"
    }
   ],
   "source": [
    "# Most traffic for 'PHP Full Srack Web Dev'\n",
    "path_df = df[df.course_name == 'PHP Full Srack Web Dev']\n",
    "path_df = wrangle.value_counts_and_frequencies(path_df.path)\n",
    "path_df.head(10)"
   ]
  },
  {
   "cell_type": "code",
   "execution_count": 16,
   "id": "797927ab",
   "metadata": {},
   "outputs": [
    {
     "data": {
      "text/html": [
       "<div>\n",
       "<style scoped>\n",
       "    .dataframe tbody tr th:only-of-type {\n",
       "        vertical-align: middle;\n",
       "    }\n",
       "\n",
       "    .dataframe tbody tr th {\n",
       "        vertical-align: top;\n",
       "    }\n",
       "\n",
       "    .dataframe thead th {\n",
       "        text-align: right;\n",
       "    }\n",
       "</style>\n",
       "<table border=\"1\" class=\"dataframe\">\n",
       "  <thead>\n",
       "    <tr style=\"text-align: right;\">\n",
       "      <th></th>\n",
       "      <th>count</th>\n",
       "      <th>probability</th>\n",
       "    </tr>\n",
       "  </thead>\n",
       "  <tbody>\n",
       "    <tr>\n",
       "      <th>/</th>\n",
       "      <td>35814</td>\n",
       "      <td>0.050204</td>\n",
       "    </tr>\n",
       "    <tr>\n",
       "      <th>javascript-i</th>\n",
       "      <td>17457</td>\n",
       "      <td>0.024471</td>\n",
       "    </tr>\n",
       "    <tr>\n",
       "      <th>toc</th>\n",
       "      <td>17428</td>\n",
       "      <td>0.024431</td>\n",
       "    </tr>\n",
       "    <tr>\n",
       "      <th>search/search_index.json</th>\n",
       "      <td>15212</td>\n",
       "      <td>0.021324</td>\n",
       "    </tr>\n",
       "    <tr>\n",
       "      <th>java-iii</th>\n",
       "      <td>12683</td>\n",
       "      <td>0.017779</td>\n",
       "    </tr>\n",
       "    <tr>\n",
       "      <th>html-css</th>\n",
       "      <td>12569</td>\n",
       "      <td>0.017619</td>\n",
       "    </tr>\n",
       "    <tr>\n",
       "      <th>java-ii</th>\n",
       "      <td>11719</td>\n",
       "      <td>0.016428</td>\n",
       "    </tr>\n",
       "    <tr>\n",
       "      <th>spring</th>\n",
       "      <td>11376</td>\n",
       "      <td>0.015947</td>\n",
       "    </tr>\n",
       "    <tr>\n",
       "      <th>jquery</th>\n",
       "      <td>10693</td>\n",
       "      <td>0.014990</td>\n",
       "    </tr>\n",
       "    <tr>\n",
       "      <th>mysql</th>\n",
       "      <td>10318</td>\n",
       "      <td>0.014464</td>\n",
       "    </tr>\n",
       "  </tbody>\n",
       "</table>\n",
       "</div>"
      ],
      "text/plain": [
       "                          count  probability\n",
       "/                         35814     0.050204\n",
       "javascript-i              17457     0.024471\n",
       "toc                       17428     0.024431\n",
       "search/search_index.json  15212     0.021324\n",
       "java-iii                  12683     0.017779\n",
       "html-css                  12569     0.017619\n",
       "java-ii                   11719     0.016428\n",
       "spring                    11376     0.015947\n",
       "jquery                    10693     0.014990\n",
       "mysql                     10318     0.014464"
      ]
     },
     "execution_count": 16,
     "metadata": {},
     "output_type": "execute_result"
    }
   ],
   "source": [
    "# Most traffic for 'Java Full Stack Web Dev'\n",
    "path_df = df[df.course_name == 'Java Full Stack Web Dev']\n",
    "path_df = wrangle.value_counts_and_frequencies(path_df.path)\n",
    "path_df.head(10)"
   ]
  },
  {
   "cell_type": "code",
   "execution_count": 17,
   "id": "e489fa0b",
   "metadata": {},
   "outputs": [
    {
     "data": {
      "text/html": [
       "<div>\n",
       "<style scoped>\n",
       "    .dataframe tbody tr th:only-of-type {\n",
       "        vertical-align: middle;\n",
       "    }\n",
       "\n",
       "    .dataframe tbody tr th {\n",
       "        vertical-align: top;\n",
       "    }\n",
       "\n",
       "    .dataframe thead th {\n",
       "        text-align: right;\n",
       "    }\n",
       "</style>\n",
       "<table border=\"1\" class=\"dataframe\">\n",
       "  <thead>\n",
       "    <tr style=\"text-align: right;\">\n",
       "      <th></th>\n",
       "      <th>count</th>\n",
       "      <th>probability</th>\n",
       "    </tr>\n",
       "  </thead>\n",
       "  <tbody>\n",
       "    <tr>\n",
       "      <th>/</th>\n",
       "      <td>8358</td>\n",
       "      <td>0.080822</td>\n",
       "    </tr>\n",
       "    <tr>\n",
       "      <th>search/search_index.json</th>\n",
       "      <td>2203</td>\n",
       "      <td>0.021303</td>\n",
       "    </tr>\n",
       "    <tr>\n",
       "      <th>classification/overview</th>\n",
       "      <td>1785</td>\n",
       "      <td>0.017261</td>\n",
       "    </tr>\n",
       "    <tr>\n",
       "      <th>1-fundamentals/modern-data-scientist.jpg</th>\n",
       "      <td>1655</td>\n",
       "      <td>0.016004</td>\n",
       "    </tr>\n",
       "    <tr>\n",
       "      <th>1-fundamentals/AI-ML-DL-timeline.jpg</th>\n",
       "      <td>1651</td>\n",
       "      <td>0.015965</td>\n",
       "    </tr>\n",
       "    <tr>\n",
       "      <th>1-fundamentals/1.1-intro-to-data-science</th>\n",
       "      <td>1633</td>\n",
       "      <td>0.015791</td>\n",
       "    </tr>\n",
       "    <tr>\n",
       "      <th>classification/scale_features_or_not.svg</th>\n",
       "      <td>1590</td>\n",
       "      <td>0.015375</td>\n",
       "    </tr>\n",
       "    <tr>\n",
       "      <th>fundamentals/AI-ML-DL-timeline.jpg</th>\n",
       "      <td>1443</td>\n",
       "      <td>0.013954</td>\n",
       "    </tr>\n",
       "    <tr>\n",
       "      <th>fundamentals/modern-data-scientist.jpg</th>\n",
       "      <td>1438</td>\n",
       "      <td>0.013906</td>\n",
       "    </tr>\n",
       "    <tr>\n",
       "      <th>sql/mysql-overview</th>\n",
       "      <td>1424</td>\n",
       "      <td>0.013770</td>\n",
       "    </tr>\n",
       "  </tbody>\n",
       "</table>\n",
       "</div>"
      ],
      "text/plain": [
       "                                          count  probability\n",
       "/                                          8358     0.080822\n",
       "search/search_index.json                   2203     0.021303\n",
       "classification/overview                    1785     0.017261\n",
       "1-fundamentals/modern-data-scientist.jpg   1655     0.016004\n",
       "1-fundamentals/AI-ML-DL-timeline.jpg       1651     0.015965\n",
       "1-fundamentals/1.1-intro-to-data-science   1633     0.015791\n",
       "classification/scale_features_or_not.svg   1590     0.015375\n",
       "fundamentals/AI-ML-DL-timeline.jpg         1443     0.013954\n",
       "fundamentals/modern-data-scientist.jpg     1438     0.013906\n",
       "sql/mysql-overview                         1424     0.013770"
      ]
     },
     "execution_count": 17,
     "metadata": {},
     "output_type": "execute_result"
    }
   ],
   "source": [
    "# Most traffic for 'Data Science'\n",
    "path_df = df[df.course_name == 'Data Science']\n",
    "path_df = wrangle.value_counts_and_frequencies(path_df.path)\n",
    "path_df.head(10)"
   ]
  },
  {
   "cell_type": "code",
   "execution_count": 18,
   "id": "06e16d02",
   "metadata": {},
   "outputs": [
    {
     "data": {
      "text/html": [
       "<div>\n",
       "<style scoped>\n",
       "    .dataframe tbody tr th:only-of-type {\n",
       "        vertical-align: middle;\n",
       "    }\n",
       "\n",
       "    .dataframe tbody tr th {\n",
       "        vertical-align: top;\n",
       "    }\n",
       "\n",
       "    .dataframe thead th {\n",
       "        text-align: right;\n",
       "    }\n",
       "</style>\n",
       "<table border=\"1\" class=\"dataframe\">\n",
       "  <thead>\n",
       "    <tr style=\"text-align: right;\">\n",
       "      <th></th>\n",
       "      <th>count</th>\n",
       "      <th>probability</th>\n",
       "    </tr>\n",
       "  </thead>\n",
       "  <tbody>\n",
       "    <tr>\n",
       "      <th>content/html-css</th>\n",
       "      <td>2</td>\n",
       "      <td>0.4</td>\n",
       "    </tr>\n",
       "    <tr>\n",
       "      <th>content/html-css/introduction.html</th>\n",
       "      <td>1</td>\n",
       "      <td>0.2</td>\n",
       "    </tr>\n",
       "    <tr>\n",
       "      <th>content/html-css/gitbook/images/favicon.ico</th>\n",
       "      <td>1</td>\n",
       "      <td>0.2</td>\n",
       "    </tr>\n",
       "    <tr>\n",
       "      <th>/</th>\n",
       "      <td>1</td>\n",
       "      <td>0.2</td>\n",
       "    </tr>\n",
       "  </tbody>\n",
       "</table>\n",
       "</div>"
      ],
      "text/plain": [
       "                                             count  probability\n",
       "content/html-css                                 2          0.4\n",
       "content/html-css/introduction.html               1          0.2\n",
       "content/html-css/gitbook/images/favicon.ico      1          0.2\n",
       "/                                                1          0.2"
      ]
     },
     "execution_count": 18,
     "metadata": {},
     "output_type": "execute_result"
    }
   ],
   "source": [
    "# Most traffic for 'Front End Web Dev'\n",
    "path_df = df[df.course_name == 'Front End Web Dev']\n",
    "path_df = wrangle.value_counts_and_frequencies(path_df.path)\n",
    "path_df.head(10)"
   ]
  },
  {
   "cell_type": "markdown",
   "id": "8f120352",
   "metadata": {},
   "source": [
    "/ is Codeup front page <br> \n",
    "favicon.ico is a shortcut or bookmark icon, I can't tell if this is from the browser of is a lesson <br> <br>\n",
    "### Highest traffic lesson for each cohort <br> <br>\n",
    "'PHP Full Srack Web Dev'  : javascript-i <br>\n",
    "'Java Full Stack Web Dev' : javascript-i <br>\n",
    "'Data Science'            : classification/overview <br>\n",
    "'Front End Web Dev'       : introduction.html (I am assuming the others are not lessons but were accessed for technical reasons) <br>"
   ]
  },
  {
   "cell_type": "markdown",
   "id": "5349c02a",
   "metadata": {},
   "source": [
    "### 2. Which lessons are least accessed?"
   ]
  },
  {
   "cell_type": "code",
   "execution_count": 83,
   "id": "6c1e025b",
   "metadata": {},
   "outputs": [
    {
     "data": {
      "text/html": [
       "<div>\n",
       "<style scoped>\n",
       "    .dataframe tbody tr th:only-of-type {\n",
       "        vertical-align: middle;\n",
       "    }\n",
       "\n",
       "    .dataframe tbody tr th {\n",
       "        vertical-align: top;\n",
       "    }\n",
       "\n",
       "    .dataframe thead th {\n",
       "        text-align: right;\n",
       "    }\n",
       "</style>\n",
       "<table border=\"1\" class=\"dataframe\">\n",
       "  <thead>\n",
       "    <tr style=\"text-align: right;\">\n",
       "      <th></th>\n",
       "      <th>count</th>\n",
       "      <th>probability</th>\n",
       "    </tr>\n",
       "  </thead>\n",
       "  <tbody>\n",
       "    <tr>\n",
       "      <th>/</th>\n",
       "      <td>1681</td>\n",
       "      <td>0.055028</td>\n",
       "    </tr>\n",
       "    <tr>\n",
       "      <th>index.html</th>\n",
       "      <td>1011</td>\n",
       "      <td>0.033095</td>\n",
       "    </tr>\n",
       "    <tr>\n",
       "      <th>javascript-i</th>\n",
       "      <td>736</td>\n",
       "      <td>0.024093</td>\n",
       "    </tr>\n",
       "    <tr>\n",
       "      <th>html-css</th>\n",
       "      <td>542</td>\n",
       "      <td>0.017743</td>\n",
       "    </tr>\n",
       "    <tr>\n",
       "      <th>spring</th>\n",
       "      <td>501</td>\n",
       "      <td>0.016400</td>\n",
       "    </tr>\n",
       "    <tr>\n",
       "      <th>...</th>\n",
       "      <td>...</td>\n",
       "      <td>...</td>\n",
       "    </tr>\n",
       "    <tr>\n",
       "      <th>content/examples/php/internal_functions.php</th>\n",
       "      <td>1</td>\n",
       "      <td>0.000033</td>\n",
       "    </tr>\n",
       "    <tr>\n",
       "      <th>4-python/5-functions</th>\n",
       "      <td>1</td>\n",
       "      <td>0.000033</td>\n",
       "    </tr>\n",
       "    <tr>\n",
       "      <th>mysql/jdbc-statements</th>\n",
       "      <td>1</td>\n",
       "      <td>0.000033</td>\n",
       "    </tr>\n",
       "    <tr>\n",
       "      <th>content/examples/html/forms.html</th>\n",
       "      <td>1</td>\n",
       "      <td>0.000033</td>\n",
       "    </tr>\n",
       "    <tr>\n",
       "      <th>html-css/media-queries</th>\n",
       "      <td>1</td>\n",
       "      <td>0.000033</td>\n",
       "    </tr>\n",
       "  </tbody>\n",
       "</table>\n",
       "<p>710 rows × 2 columns</p>\n",
       "</div>"
      ],
      "text/plain": [
       "                                             count  probability\n",
       "/                                             1681     0.055028\n",
       "index.html                                    1011     0.033095\n",
       "javascript-i                                   736     0.024093\n",
       "html-css                                       542     0.017743\n",
       "spring                                         501     0.016400\n",
       "...                                            ...          ...\n",
       "content/examples/php/internal_functions.php      1     0.000033\n",
       "4-python/5-functions                             1     0.000033\n",
       "mysql/jdbc-statements                            1     0.000033\n",
       "content/examples/html/forms.html                 1     0.000033\n",
       "html-css/media-queries                           1     0.000033\n",
       "\n",
       "[710 rows x 2 columns]"
      ]
     },
     "execution_count": 83,
     "metadata": {},
     "output_type": "execute_result"
    }
   ],
   "source": [
    "# Least traffic for 'PHP Full Srack Web Dev'\n",
    "path_df = df[df.course_name == 'PHP Full Srack Web Dev']\n",
    "path_df = wrangle.value_counts_and_frequencies(path_df.path)\n",
    "path_df"
   ]
  },
  {
   "cell_type": "code",
   "execution_count": 84,
   "id": "7083ceb6",
   "metadata": {},
   "outputs": [
    {
     "data": {
      "text/plain": [
       "count  probability\n",
       "1      0.000033       141\n",
       "2      0.000065        65\n",
       "3      0.000098        26\n",
       "7      0.000229        25\n",
       "6      0.000196        23\n",
       "                     ... \n",
       "61     0.001997         1\n",
       "122    0.003994         1\n",
       "62     0.002030         1\n",
       "64     0.002095         1\n",
       "1681   0.055028         1\n",
       "Length: 157, dtype: int64"
      ]
     },
     "execution_count": 84,
     "metadata": {},
     "output_type": "execute_result"
    }
   ],
   "source": [
    "path_df.value_counts()"
   ]
  },
  {
   "cell_type": "code",
   "execution_count": 85,
   "id": "c260f170",
   "metadata": {},
   "outputs": [
    {
     "data": {
      "text/plain": [
       "710"
      ]
     },
     "execution_count": 85,
     "metadata": {},
     "output_type": "execute_result"
    }
   ],
   "source": [
    "# Out of 710 pages, 141 of those pages were only accessed once by 'PHP Full Srack Web Dev'\n",
    "len(path_df)"
   ]
  },
  {
   "cell_type": "code",
   "execution_count": 86,
   "id": "d226796c",
   "metadata": {},
   "outputs": [
    {
     "data": {
      "text/plain": [
       "Index(['content/jquery/effects/animate.html', 'slides/coding_best_practices',\n",
       "       'appendix/postwork/sales-tax', 'content/examples/php/Input.php',\n",
       "       '4-python/6-imports', 'student', '8.1_Overview',\n",
       "       'content/appendix/javascript/functions/templating.html',\n",
       "       'content/jquery/effects/gitbook/images/favicon.ico',\n",
       "       'content/examples/examples/examples/gitbook/images/favicon.ico',\n",
       "       ...\n",
       "       'javascript-with-html', '2-storytelling/misleading3_deaths.jpg',\n",
       "       'slides', 'html-css/bootstrap-grid-system',\n",
       "       'appendix/further-reading/mysql/host-wildcards',\n",
       "       'content/examples/php/internal_functions.php', '4-python/5-functions',\n",
       "       'mysql/jdbc-statements', 'content/examples/html/forms.html',\n",
       "       'html-css/media-queries'],\n",
       "      dtype='object', length=141)"
      ]
     },
     "execution_count": 86,
     "metadata": {},
     "output_type": "execute_result"
    }
   ],
   "source": [
    "# List of pages that were only accessed once by 'PHP Full Srack Web Dev'\n",
    "least_accessed_PHP_pages = path_df[path_df['count'] == 1].index\n",
    "least_accessed_PHP_pages"
   ]
  },
  {
   "cell_type": "code",
   "execution_count": 62,
   "id": "39337c95",
   "metadata": {},
   "outputs": [
    {
     "data": {
      "text/html": [
       "<div>\n",
       "<style scoped>\n",
       "    .dataframe tbody tr th:only-of-type {\n",
       "        vertical-align: middle;\n",
       "    }\n",
       "\n",
       "    .dataframe tbody tr th {\n",
       "        vertical-align: top;\n",
       "    }\n",
       "\n",
       "    .dataframe thead th {\n",
       "        text-align: right;\n",
       "    }\n",
       "</style>\n",
       "<table border=\"1\" class=\"dataframe\">\n",
       "  <thead>\n",
       "    <tr style=\"text-align: right;\">\n",
       "      <th></th>\n",
       "      <th>count</th>\n",
       "      <th>probability</th>\n",
       "    </tr>\n",
       "  </thead>\n",
       "  <tbody>\n",
       "    <tr>\n",
       "      <th>/</th>\n",
       "      <td>35814</td>\n",
       "      <td>0.050204</td>\n",
       "    </tr>\n",
       "    <tr>\n",
       "      <th>javascript-i</th>\n",
       "      <td>17457</td>\n",
       "      <td>0.024471</td>\n",
       "    </tr>\n",
       "    <tr>\n",
       "      <th>toc</th>\n",
       "      <td>17428</td>\n",
       "      <td>0.024431</td>\n",
       "    </tr>\n",
       "    <tr>\n",
       "      <th>search/search_index.json</th>\n",
       "      <td>15212</td>\n",
       "      <td>0.021324</td>\n",
       "    </tr>\n",
       "    <tr>\n",
       "      <th>java-iii</th>\n",
       "      <td>12683</td>\n",
       "      <td>0.017779</td>\n",
       "    </tr>\n",
       "    <tr>\n",
       "      <th>...</th>\n",
       "      <td>...</td>\n",
       "      <td>...</td>\n",
       "    </tr>\n",
       "    <tr>\n",
       "      <th>12-distributed-ml/read-jdbc</th>\n",
       "      <td>1</td>\n",
       "      <td>0.000001</td>\n",
       "    </tr>\n",
       "    <tr>\n",
       "      <th>10_Appendix_EntityLabeling</th>\n",
       "      <td>1</td>\n",
       "      <td>0.000001</td>\n",
       "    </tr>\n",
       "    <tr>\n",
       "      <th>.git</th>\n",
       "      <td>1</td>\n",
       "      <td>0.000001</td>\n",
       "    </tr>\n",
       "    <tr>\n",
       "      <th>series</th>\n",
       "      <td>1</td>\n",
       "      <td>0.000001</td>\n",
       "    </tr>\n",
       "    <tr>\n",
       "      <th>anomaly-detection/time-series-anomaly-detection-part-2</th>\n",
       "      <td>1</td>\n",
       "      <td>0.000001</td>\n",
       "    </tr>\n",
       "  </tbody>\n",
       "</table>\n",
       "<p>1913 rows × 2 columns</p>\n",
       "</div>"
      ],
      "text/plain": [
       "                                                    count  probability\n",
       "/                                                   35814     0.050204\n",
       "javascript-i                                        17457     0.024471\n",
       "toc                                                 17428     0.024431\n",
       "search/search_index.json                            15212     0.021324\n",
       "java-iii                                            12683     0.017779\n",
       "...                                                   ...          ...\n",
       "12-distributed-ml/read-jdbc                             1     0.000001\n",
       "10_Appendix_EntityLabeling                              1     0.000001\n",
       ".git                                                    1     0.000001\n",
       "series                                                  1     0.000001\n",
       "anomaly-detection/time-series-anomaly-detection...      1     0.000001\n",
       "\n",
       "[1913 rows x 2 columns]"
      ]
     },
     "execution_count": 62,
     "metadata": {},
     "output_type": "execute_result"
    }
   ],
   "source": [
    "# Least traffic for 'Java Full Stack Web Dev'\n",
    "path_df = df[df.course_name == 'Java Full Stack Web Dev']\n",
    "path_df = wrangle.value_counts_and_frequencies(path_df.path)\n",
    "path_df"
   ]
  },
  {
   "cell_type": "code",
   "execution_count": 24,
   "id": "ce9674e1",
   "metadata": {},
   "outputs": [
    {
     "data": {
      "text/plain": [
       "count  probability\n",
       "1      0.000001       420\n",
       "2      0.000003       183\n",
       "3      0.000004       105\n",
       "5      0.000007        85\n",
       "4      0.000006        83\n",
       "                     ... \n",
       "456    0.000639         1\n",
       "463    0.000649         1\n",
       "467    0.000655         1\n",
       "471    0.000660         1\n",
       "35814  0.050204         1\n",
       "Length: 358, dtype: int64"
      ]
     },
     "execution_count": 24,
     "metadata": {},
     "output_type": "execute_result"
    }
   ],
   "source": [
    "path_df.value_counts()"
   ]
  },
  {
   "cell_type": "code",
   "execution_count": 25,
   "id": "4c12b41a",
   "metadata": {},
   "outputs": [
    {
     "data": {
      "text/plain": [
       "1913"
      ]
     },
     "execution_count": 25,
     "metadata": {},
     "output_type": "execute_result"
    }
   ],
   "source": [
    "# Out of 1913 pages, 420 of those pages were only accessed once by 'Java Full Stack Web Dev'\n",
    "len(path_df)"
   ]
  },
  {
   "cell_type": "code",
   "execution_count": 26,
   "id": "a17d7a9d",
   "metadata": {},
   "outputs": [
    {
     "data": {
      "text/plain": [
       "Index(['8-timeseries/6.1-parametric-modeling', 'j', 'users.json', 'logouts',\n",
       "       'sql', 'Exploration_Lecture',\n",
       "       'content/php_iii/classes-and-objects-i/constructors-destructors.html',\n",
       "       'content/mysql/relationships/sub-queries.html',\n",
       "       'appendix/open_data/www.stat.ucla.edu/data', 'timeseries',\n",
       "       ...\n",
       "       'app', 'python', '5-stats/1-descriptive-stats', 'capstone/team',\n",
       "       'content/php_iv/exceptions/throwing.html',\n",
       "       '12-distributed-ml/read-jdbc', '10_Appendix_EntityLabeling', '.git',\n",
       "       'series', 'anomaly-detection/time-series-anomaly-detection-part-2'],\n",
       "      dtype='object', length=420)"
      ]
     },
     "execution_count": 26,
     "metadata": {},
     "output_type": "execute_result"
    }
   ],
   "source": [
    "# List of pages that were only accessed once by 'Java Full Stack Web Dev'\n",
    "least_accessed_java_pages = path_df[path_df['count'] == 1].index\n",
    "least_accessed_java_pages"
   ]
  },
  {
   "cell_type": "code",
   "execution_count": 63,
   "id": "c560554c",
   "metadata": {},
   "outputs": [
    {
     "data": {
      "text/html": [
       "<div>\n",
       "<style scoped>\n",
       "    .dataframe tbody tr th:only-of-type {\n",
       "        vertical-align: middle;\n",
       "    }\n",
       "\n",
       "    .dataframe tbody tr th {\n",
       "        vertical-align: top;\n",
       "    }\n",
       "\n",
       "    .dataframe thead th {\n",
       "        text-align: right;\n",
       "    }\n",
       "</style>\n",
       "<table border=\"1\" class=\"dataframe\">\n",
       "  <thead>\n",
       "    <tr style=\"text-align: right;\">\n",
       "      <th></th>\n",
       "      <th>count</th>\n",
       "      <th>probability</th>\n",
       "    </tr>\n",
       "  </thead>\n",
       "  <tbody>\n",
       "    <tr>\n",
       "      <th>/</th>\n",
       "      <td>8358</td>\n",
       "      <td>0.080822</td>\n",
       "    </tr>\n",
       "    <tr>\n",
       "      <th>search/search_index.json</th>\n",
       "      <td>2203</td>\n",
       "      <td>0.021303</td>\n",
       "    </tr>\n",
       "    <tr>\n",
       "      <th>classification/overview</th>\n",
       "      <td>1785</td>\n",
       "      <td>0.017261</td>\n",
       "    </tr>\n",
       "    <tr>\n",
       "      <th>1-fundamentals/modern-data-scientist.jpg</th>\n",
       "      <td>1655</td>\n",
       "      <td>0.016004</td>\n",
       "    </tr>\n",
       "    <tr>\n",
       "      <th>1-fundamentals/AI-ML-DL-timeline.jpg</th>\n",
       "      <td>1651</td>\n",
       "      <td>0.015965</td>\n",
       "    </tr>\n",
       "    <tr>\n",
       "      <th>...</th>\n",
       "      <td>...</td>\n",
       "      <td>...</td>\n",
       "    </tr>\n",
       "    <tr>\n",
       "      <th>7.4.1-pandas-overview</th>\n",
       "      <td>1</td>\n",
       "      <td>0.000010</td>\n",
       "    </tr>\n",
       "    <tr>\n",
       "      <th>12-distributed-ml/8.1-classification</th>\n",
       "      <td>1</td>\n",
       "      <td>0.000010</td>\n",
       "    </tr>\n",
       "    <tr>\n",
       "      <th>regression/project/null</th>\n",
       "      <td>1</td>\n",
       "      <td>0.000010</td>\n",
       "    </tr>\n",
       "    <tr>\n",
       "      <th>appendix/cls/2-listing-files</th>\n",
       "      <td>1</td>\n",
       "      <td>0.000010</td>\n",
       "    </tr>\n",
       "    <tr>\n",
       "      <th>NaN</th>\n",
       "      <td>1</td>\n",
       "      <td>0.000010</td>\n",
       "    </tr>\n",
       "  </tbody>\n",
       "</table>\n",
       "<p>683 rows × 2 columns</p>\n",
       "</div>"
      ],
      "text/plain": [
       "                                          count  probability\n",
       "/                                          8358     0.080822\n",
       "search/search_index.json                   2203     0.021303\n",
       "classification/overview                    1785     0.017261\n",
       "1-fundamentals/modern-data-scientist.jpg   1655     0.016004\n",
       "1-fundamentals/AI-ML-DL-timeline.jpg       1651     0.015965\n",
       "...                                         ...          ...\n",
       "7.4.1-pandas-overview                         1     0.000010\n",
       "12-distributed-ml/8.1-classification          1     0.000010\n",
       "regression/project/null                       1     0.000010\n",
       "appendix/cls/2-listing-files                  1     0.000010\n",
       "NaN                                           1     0.000010\n",
       "\n",
       "[683 rows x 2 columns]"
      ]
     },
     "execution_count": 63,
     "metadata": {},
     "output_type": "execute_result"
    }
   ],
   "source": [
    "# Least traffic for 'Data Science'\n",
    "path_df = df[df.course_name == 'Data Science']\n",
    "path_df = wrangle.value_counts_and_frequencies(path_df.path)\n",
    "path_df"
   ]
  },
  {
   "cell_type": "code",
   "execution_count": 28,
   "id": "d8a1982c",
   "metadata": {},
   "outputs": [
    {
     "data": {
      "text/plain": [
       "count  probability\n",
       "1      0.000010       104\n",
       "2      0.000019        55\n",
       "3      0.000029        28\n",
       "4      0.000039        24\n",
       "5      0.000048        18\n",
       "                     ... \n",
       "209    0.002021         1\n",
       "212    0.002050         1\n",
       "215    0.002079         1\n",
       "217    0.002098         1\n",
       "8358   0.080822         1\n",
       "Length: 251, dtype: int64"
      ]
     },
     "execution_count": 28,
     "metadata": {},
     "output_type": "execute_result"
    }
   ],
   "source": [
    "path_df.value_counts()"
   ]
  },
  {
   "cell_type": "code",
   "execution_count": 29,
   "id": "02cc9208",
   "metadata": {},
   "outputs": [
    {
     "data": {
      "text/plain": [
       "683"
      ]
     },
     "execution_count": 29,
     "metadata": {},
     "output_type": "execute_result"
    }
   ],
   "source": [
    "# Out of 683 pages, 104 of those pages were only accessed once by 'Data Science'\n",
    "len(path_df)"
   ]
  },
  {
   "cell_type": "code",
   "execution_count": 30,
   "id": "7e0f1111",
   "metadata": {},
   "outputs": [
    {
     "data": {
      "text/plain": [
       "Index([            '12-distributed-ml/spark-topics',\n",
       "                            'End_to_End_clustering',\n",
       "                       'classification/explore-old',\n",
       "                                       '.gitignore',\n",
       "                                '4.2-compare-means',\n",
       "       'spring/extra-features/error-pages/asdfasdf',\n",
       "                                       'Index.html',\n",
       "                      'spark-execution-diagram.svg',\n",
       "             '12-distributed-ml/6.2-prepare-part-2',\n",
       "                                   'json-responses',\n",
       "       ...\n",
       "                                          'imports',\n",
       "                            'statistics-assessment',\n",
       "                           'misleading3_deaths.jpg',\n",
       "            'appendix/interview-questions-students',\n",
       "                     'ml-methodologies-drawing.jpg',\n",
       "                            '7.4.1-pandas-overview',\n",
       "             '12-distributed-ml/8.1-classification',\n",
       "                          'regression/project/null',\n",
       "                     'appendix/cls/2-listing-files',\n",
       "                                                nan],\n",
       "      dtype='object', length=104)"
      ]
     },
     "execution_count": 30,
     "metadata": {},
     "output_type": "execute_result"
    }
   ],
   "source": [
    "# List of pages that were only accessed once by 'Data Science'\n",
    "least_accessed_ds_pages = path_df[path_df['count'] == 1].index\n",
    "least_accessed_ds_pages"
   ]
  },
  {
   "cell_type": "code",
   "execution_count": 64,
   "id": "f28f7f3a",
   "metadata": {},
   "outputs": [
    {
     "data": {
      "text/html": [
       "<div>\n",
       "<style scoped>\n",
       "    .dataframe tbody tr th:only-of-type {\n",
       "        vertical-align: middle;\n",
       "    }\n",
       "\n",
       "    .dataframe tbody tr th {\n",
       "        vertical-align: top;\n",
       "    }\n",
       "\n",
       "    .dataframe thead th {\n",
       "        text-align: right;\n",
       "    }\n",
       "</style>\n",
       "<table border=\"1\" class=\"dataframe\">\n",
       "  <thead>\n",
       "    <tr style=\"text-align: right;\">\n",
       "      <th></th>\n",
       "      <th>count</th>\n",
       "      <th>probability</th>\n",
       "    </tr>\n",
       "  </thead>\n",
       "  <tbody>\n",
       "    <tr>\n",
       "      <th>content/html-css</th>\n",
       "      <td>2</td>\n",
       "      <td>0.4</td>\n",
       "    </tr>\n",
       "    <tr>\n",
       "      <th>content/html-css/introduction.html</th>\n",
       "      <td>1</td>\n",
       "      <td>0.2</td>\n",
       "    </tr>\n",
       "    <tr>\n",
       "      <th>content/html-css/gitbook/images/favicon.ico</th>\n",
       "      <td>1</td>\n",
       "      <td>0.2</td>\n",
       "    </tr>\n",
       "    <tr>\n",
       "      <th>/</th>\n",
       "      <td>1</td>\n",
       "      <td>0.2</td>\n",
       "    </tr>\n",
       "  </tbody>\n",
       "</table>\n",
       "</div>"
      ],
      "text/plain": [
       "                                             count  probability\n",
       "content/html-css                                 2          0.4\n",
       "content/html-css/introduction.html               1          0.2\n",
       "content/html-css/gitbook/images/favicon.ico      1          0.2\n",
       "/                                                1          0.2"
      ]
     },
     "execution_count": 64,
     "metadata": {},
     "output_type": "execute_result"
    }
   ],
   "source": [
    "# Least traffic for 'Front End Web Dev'\n",
    "path_df = df[df.course_name == 'Front End Web Dev']\n",
    "path_df = wrangle.value_counts_and_frequencies(path_df.path)\n",
    "path_df\n",
    "# All were low, content/html-css had two accesses and the other three pages only had one access"
   ]
  },
  {
   "cell_type": "markdown",
   "id": "5b0e3a0b",
   "metadata": {},
   "source": [
    "### The lists of pages with the least amount of accesses are given in the work above\n",
    "- Out of 710 pages, 141 of those pages were only accessed once by 'PHP Full Srack Web Dev'\n",
    "- Out of 1913 pages, 420 of those pages were only accessed once by 'Java Full Stack Web Dev'\n",
    "- Out of 683 pages, 104 of those pages were only accessed once by 'Data Science'\n",
    "- For front end web dev, all were low. Content/html-css had two accesses and the other three pages only had one access.\n",
    "- Many of the least commonly accessed pages covered basics like functions or lists. These topics are reinforced throught the course, and a google search would probably give better answers to specific questions than a broad introduction page. When students encounter a bug, they will probably google the error message instead of returning to the curriculum."
   ]
  },
  {
   "cell_type": "markdown",
   "id": "68a61aaa",
   "metadata": {},
   "source": [
    "### 3. What topics are grads continuing to reference after graduation and into their jobs (for each program)?"
   ]
  },
  {
   "cell_type": "code",
   "execution_count": 32,
   "id": "3b9b6cab",
   "metadata": {},
   "outputs": [
    {
     "data": {
      "text/plain": [
       "(900223, 18)"
      ]
     },
     "execution_count": 32,
     "metadata": {},
     "output_type": "execute_result"
    }
   ],
   "source": [
    "# All accessions by everbody for the entire dataset\n",
    "df.shape"
   ]
  },
  {
   "cell_type": "code",
   "execution_count": 33,
   "id": "7d08f973",
   "metadata": {},
   "outputs": [
    {
     "data": {
      "text/plain": [
       "(199834, 18)"
      ]
     },
     "execution_count": 33,
     "metadata": {},
     "output_type": "execute_result"
    }
   ],
   "source": [
    "# Accessions made by alumni after graduation\n",
    "df[df.date > df.end_date].shape"
   ]
  },
  {
   "cell_type": "code",
   "execution_count": 34,
   "id": "47bb9ea2",
   "metadata": {},
   "outputs": [
    {
     "name": "stdout",
     "output_type": "stream",
     "text": [
      "Fraction of curriculum accessions made after graduation:  0.22198277537898942\n"
     ]
    }
   ],
   "source": [
    "print('Fraction of curriculum accessions made after graduation: ', 199834 / 900223)"
   ]
  },
  {
   "cell_type": "code",
   "execution_count": 35,
   "id": "dc94add7",
   "metadata": {},
   "outputs": [],
   "source": [
    "# filtering with both terms using '&' keeps causing my kernel to die, \n",
    "# so I split the filtering into two parts\n",
    "alumni = df[df.date > df.end_date]\n",
    "php_alumni = alumni[alumni.course_name == 'PHP Full Srack Web Dev']\n",
    "java_alumni = alumni[alumni.course_name == 'Java Full Stack Web Dev']\n",
    "ds_alumni = alumni[alumni.course_name == 'Data Science']\n",
    "front_alumni = alumni[alumni.course_name == 'Front End Web Dev']"
   ]
  },
  {
   "cell_type": "code",
   "execution_count": 73,
   "id": "7847107e",
   "metadata": {},
   "outputs": [
    {
     "data": {
      "text/plain": [
       "Text(0.5, 1.0, 'Top 25 Pages Accessed by Alumni')"
      ]
     },
     "execution_count": 73,
     "metadata": {},
     "output_type": "execute_result"
    },
    {
     "data": {
      "image/png": "[encoded data removed]",
      "text/plain": [
       "<Figure size 432x288 with 1 Axes>"
      ]
     },
     "metadata": {
      "needs_background": "light"
     },
     "output_type": "display_data"
    }
   ],
   "source": [
    "# Examining what is popular with alumni across all programs\n",
    "alumni.path.value_counts().head(25).plot(kind='bar')\n",
    "plt.ylabel('Number of Accessions')\n",
    "plt.title('Top 25 Pages Accessed by Alumni')"
   ]
  },
  {
   "cell_type": "code",
   "execution_count": 36,
   "id": "3acfa7b6",
   "metadata": {},
   "outputs": [
    {
     "data": {
      "text/plain": [
       "/               1681\n",
       "index.html      1011\n",
       "javascript-i     736\n",
       "html-css         542\n",
       "spring           501\n",
       "Name: path, dtype: int64"
      ]
     },
     "execution_count": 36,
     "metadata": {},
     "output_type": "execute_result"
    }
   ],
   "source": [
    "# php alumni are coming back to javascript-i\n",
    "php_alumni.path.value_counts().head()"
   ]
  },
  {
   "cell_type": "code",
   "execution_count": 37,
   "id": "dc10dfda",
   "metadata": {},
   "outputs": [
    {
     "data": {
      "text/plain": [
       "/                           12406\n",
       "javascript-i                 4229\n",
       "spring                       3760\n",
       "search/search_index.json     3562\n",
       "html-css                     3136\n",
       "Name: path, dtype: int64"
      ]
     },
     "execution_count": 37,
     "metadata": {},
     "output_type": "execute_result"
    }
   ],
   "source": [
    "# 'Java Full Stack Web Dev' alumni are coming back to javascript-i\n",
    "java_alumni.path.value_counts().head()"
   ]
  },
  {
   "cell_type": "code",
   "execution_count": 38,
   "id": "b5982d04",
   "metadata": {},
   "outputs": [
    {
     "data": {
      "text/plain": [
       "/                                           1436\n",
       "search/search_index.json                     493\n",
       "sql/mysql-overview                           275\n",
       "classification/overview                      266\n",
       "classification/scale_features_or_not.svg     219\n",
       "Name: path, dtype: int64"
      ]
     },
     "execution_count": 38,
     "metadata": {},
     "output_type": "execute_result"
    }
   ],
   "source": [
    "# 'Data Science' alumni are coming back to sql/mysql-overview\n",
    "ds_alumni.path.value_counts().head()"
   ]
  },
  {
   "cell_type": "code",
   "execution_count": 39,
   "id": "2f153296",
   "metadata": {},
   "outputs": [
    {
     "data": {
      "text/plain": [
       "content/html-css                               2\n",
       "content/html-css/introduction.html             1\n",
       "content/html-css/gitbook/images/favicon.ico    1\n",
       "/                                              1\n",
       "Name: path, dtype: int64"
      ]
     },
     "execution_count": 39,
     "metadata": {},
     "output_type": "execute_result"
    }
   ],
   "source": [
    "# 'Front End Web Dev' accessions all seem to be after graduation\n",
    "front_alumni.path.value_counts().head()"
   ]
  },
  {
   "cell_type": "markdown",
   "id": "06b958a7",
   "metadata": {},
   "source": [
    "### Alumni are continuing to reference the following topics after graduation:\n",
    "- 'PHP Full Srack Web Dev' alumni are coming back to javascript-i\n",
    "- 'Java Full Stack Web Dev' alumni are coming back to javascript-i\n",
    "- 'Data Science' alumni are coming back to sql/mysql-overview\n",
    "- 'Front End Web Dev' accessions all seem to be after graduation"
   ]
  },
  {
   "cell_type": "markdown",
   "id": "a37c16db",
   "metadata": {},
   "source": [
    "### 4. Are there students who, when active, hardly access the curriculum? If so, what information do you have about these students?"
   ]
  },
  {
   "cell_type": "code",
   "execution_count": 40,
   "id": "f927ebe6",
   "metadata": {},
   "outputs": [
    {
     "data": {
      "text/plain": [
       "11     17913\n",
       "64     16347\n",
       "53     12329\n",
       "314     7783\n",
       "1       7404\n",
       "       ...  \n",
       "652        1\n",
       "918        1\n",
       "649        1\n",
       "952        1\n",
       "212        1\n",
       "Name: user_id, Length: 981, dtype: int64"
      ]
     },
     "execution_count": 40,
     "metadata": {},
     "output_type": "execute_result"
    }
   ],
   "source": [
    "# There are some users who rarely access the curriculum\n",
    "accessions = df.user_id.value_counts()\n",
    "accessions"
   ]
  },
  {
   "cell_type": "code",
   "execution_count": 41,
   "id": "267ff281",
   "metadata": {},
   "outputs": [
    {
     "data": {
      "text/plain": [
       "917.6585117227319"
      ]
     },
     "execution_count": 41,
     "metadata": {},
     "output_type": "execute_result"
    }
   ],
   "source": [
    "avg_accessions = np.mean(accessions)\n",
    "avg_accessions"
   ]
  },
  {
   "cell_type": "code",
   "execution_count": 65,
   "id": "8001b941",
   "metadata": {},
   "outputs": [
    {
     "data": {
      "text/plain": [
       "1208.2550769139373"
      ]
     },
     "execution_count": 65,
     "metadata": {},
     "output_type": "execute_result"
    }
   ],
   "source": [
    "# The standard deviation is bigger than the mean, which adds additional challenges\n",
    "std_accessions = np.std(accessions)\n",
    "std_accessions"
   ]
  },
  {
   "cell_type": "code",
   "execution_count": 74,
   "id": "ceb6c4ab",
   "metadata": {
    "scrolled": true
   },
   "outputs": [
    {
     "data": {
      "text/plain": [
       "Text(0.5, 1.0, 'Significant Variance in Accessions Between Users')"
      ]
     },
     "execution_count": 74,
     "metadata": {},
     "output_type": "execute_result"
    },
    {
     "data": {
      "image/png": "[encoded data removed]",
      "text/plain": [
       "<Figure size 432x288 with 1 Axes>"
      ]
     },
     "metadata": {
      "needs_background": "light"
     },
     "output_type": "display_data"
    }
   ],
   "source": [
    "# There are many huge outliers, so we need to careful about our methods\n",
    "accessions.plot(kind='box')\n",
    "plt.ylabel('Accessions')\n",
    "plt.title('Significant Variance in Accessions Between Users')"
   ]
  },
  {
   "cell_type": "code",
   "execution_count": 44,
   "id": "e1317799",
   "metadata": {},
   "outputs": [
    {
     "data": {
      "text/plain": [
       "1"
      ]
     },
     "execution_count": 44,
     "metadata": {},
     "output_type": "execute_result"
    }
   ],
   "source": [
    "# The mode of users accessing the curiculum is 1\n",
    "stat.mode(accessions)"
   ]
  },
  {
   "cell_type": "code",
   "execution_count": 45,
   "id": "569f1578",
   "metadata": {},
   "outputs": [
    {
     "data": {
      "text/plain": [
       "66     1\n",
       "593    1\n",
       "619    1\n",
       "165    1\n",
       "940    1\n",
       "879    1\n",
       "592    1\n",
       "163    1\n",
       "652    1\n",
       "918    1\n",
       "649    1\n",
       "952    1\n",
       "212    1\n",
       "Name: user_id, dtype: int64"
      ]
     },
     "execution_count": 45,
     "metadata": {},
     "output_type": "execute_result"
    }
   ],
   "source": [
    "not_reading_users = accessions[accessions == 1]\n",
    "not_reading_users"
   ]
  },
  {
   "cell_type": "code",
   "execution_count": 46,
   "id": "c07ff37a",
   "metadata": {},
   "outputs": [
    {
     "name": "stdout",
     "output_type": "stream",
     "text": [
      "Fraction of users who only accessed the curiculum once:  0.013251783893985729\n"
     ]
    }
   ],
   "source": [
    "print('Fraction of users who only accessed the curiculum once: ', \n",
    "      len(not_reading_users) / len(accessions))"
   ]
  },
  {
   "cell_type": "code",
   "execution_count": 47,
   "id": "88f0ecb6",
   "metadata": {},
   "outputs": [
    {
     "data": {
      "text/html": [
       "<div>\n",
       "<style scoped>\n",
       "    .dataframe tbody tr th:only-of-type {\n",
       "        vertical-align: middle;\n",
       "    }\n",
       "\n",
       "    .dataframe tbody tr th {\n",
       "        vertical-align: top;\n",
       "    }\n",
       "\n",
       "    .dataframe thead th {\n",
       "        text-align: right;\n",
       "    }\n",
       "</style>\n",
       "<table border=\"1\" class=\"dataframe\">\n",
       "  <thead>\n",
       "    <tr style=\"text-align: right;\">\n",
       "      <th></th>\n",
       "      <th>date</th>\n",
       "      <th>time</th>\n",
       "      <th>path</th>\n",
       "      <th>user_id</th>\n",
       "      <th>cohort_id</th>\n",
       "      <th>ip</th>\n",
       "      <th>id</th>\n",
       "      <th>name</th>\n",
       "      <th>slack</th>\n",
       "      <th>start_date</th>\n",
       "      <th>end_date</th>\n",
       "      <th>created_at</th>\n",
       "      <th>updated_at</th>\n",
       "      <th>program_id</th>\n",
       "      <th>course_name</th>\n",
       "      <th>course_subdomain</th>\n",
       "      <th>hour</th>\n",
       "      <th>weekday</th>\n",
       "    </tr>\n",
       "    <tr>\n",
       "      <th>datetime</th>\n",
       "      <th></th>\n",
       "      <th></th>\n",
       "      <th></th>\n",
       "      <th></th>\n",
       "      <th></th>\n",
       "      <th></th>\n",
       "      <th></th>\n",
       "      <th></th>\n",
       "      <th></th>\n",
       "      <th></th>\n",
       "      <th></th>\n",
       "      <th></th>\n",
       "      <th></th>\n",
       "      <th></th>\n",
       "      <th></th>\n",
       "      <th></th>\n",
       "      <th></th>\n",
       "      <th></th>\n",
       "    </tr>\n",
       "  </thead>\n",
       "  <tbody>\n",
       "    <tr>\n",
       "      <th>2018-01-26 09:55:03-06:00</th>\n",
       "      <td>2018-01-26</td>\n",
       "      <td>09:55:03</td>\n",
       "      <td>/</td>\n",
       "      <td>1</td>\n",
       "      <td>8.0</td>\n",
       "      <td>97.105.19.61</td>\n",
       "      <td>8.0</td>\n",
       "      <td>Hampton</td>\n",
       "      <td>#hampton</td>\n",
       "      <td>2015-09-22</td>\n",
       "      <td>2016-02-06</td>\n",
       "      <td>2016-06-14 19:52:26</td>\n",
       "      <td>2016-06-14 19:52:26</td>\n",
       "      <td>1.0</td>\n",
       "      <td>PHP Full Srack Web Dev</td>\n",
       "      <td>php</td>\n",
       "      <td>9</td>\n",
       "      <td>Friday</td>\n",
       "    </tr>\n",
       "    <tr>\n",
       "      <th>2018-01-26 09:56:02-06:00</th>\n",
       "      <td>2018-01-26</td>\n",
       "      <td>09:56:02</td>\n",
       "      <td>java-ii</td>\n",
       "      <td>1</td>\n",
       "      <td>8.0</td>\n",
       "      <td>97.105.19.61</td>\n",
       "      <td>8.0</td>\n",
       "      <td>Hampton</td>\n",
       "      <td>#hampton</td>\n",
       "      <td>2015-09-22</td>\n",
       "      <td>2016-02-06</td>\n",
       "      <td>2016-06-14 19:52:26</td>\n",
       "      <td>2016-06-14 19:52:26</td>\n",
       "      <td>1.0</td>\n",
       "      <td>PHP Full Srack Web Dev</td>\n",
       "      <td>php</td>\n",
       "      <td>9</td>\n",
       "      <td>Friday</td>\n",
       "    </tr>\n",
       "    <tr>\n",
       "      <th>2018-01-26 09:56:05-06:00</th>\n",
       "      <td>2018-01-26</td>\n",
       "      <td>09:56:05</td>\n",
       "      <td>java-ii/object-oriented-programming</td>\n",
       "      <td>1</td>\n",
       "      <td>8.0</td>\n",
       "      <td>97.105.19.61</td>\n",
       "      <td>8.0</td>\n",
       "      <td>Hampton</td>\n",
       "      <td>#hampton</td>\n",
       "      <td>2015-09-22</td>\n",
       "      <td>2016-02-06</td>\n",
       "      <td>2016-06-14 19:52:26</td>\n",
       "      <td>2016-06-14 19:52:26</td>\n",
       "      <td>1.0</td>\n",
       "      <td>PHP Full Srack Web Dev</td>\n",
       "      <td>php</td>\n",
       "      <td>9</td>\n",
       "      <td>Friday</td>\n",
       "    </tr>\n",
       "    <tr>\n",
       "      <th>2018-01-26 09:56:06-06:00</th>\n",
       "      <td>2018-01-26</td>\n",
       "      <td>09:56:06</td>\n",
       "      <td>slides/object_oriented_programming</td>\n",
       "      <td>1</td>\n",
       "      <td>8.0</td>\n",
       "      <td>97.105.19.61</td>\n",
       "      <td>8.0</td>\n",
       "      <td>Hampton</td>\n",
       "      <td>#hampton</td>\n",
       "      <td>2015-09-22</td>\n",
       "      <td>2016-02-06</td>\n",
       "      <td>2016-06-14 19:52:26</td>\n",
       "      <td>2016-06-14 19:52:26</td>\n",
       "      <td>1.0</td>\n",
       "      <td>PHP Full Srack Web Dev</td>\n",
       "      <td>php</td>\n",
       "      <td>9</td>\n",
       "      <td>Friday</td>\n",
       "    </tr>\n",
       "    <tr>\n",
       "      <th>2018-01-26 10:40:15-06:00</th>\n",
       "      <td>2018-01-26</td>\n",
       "      <td>10:40:15</td>\n",
       "      <td>javascript-i/functions</td>\n",
       "      <td>1</td>\n",
       "      <td>8.0</td>\n",
       "      <td>97.105.19.61</td>\n",
       "      <td>8.0</td>\n",
       "      <td>Hampton</td>\n",
       "      <td>#hampton</td>\n",
       "      <td>2015-09-22</td>\n",
       "      <td>2016-02-06</td>\n",
       "      <td>2016-06-14 19:52:26</td>\n",
       "      <td>2016-06-14 19:52:26</td>\n",
       "      <td>1.0</td>\n",
       "      <td>PHP Full Srack Web Dev</td>\n",
       "      <td>php</td>\n",
       "      <td>10</td>\n",
       "      <td>Friday</td>\n",
       "    </tr>\n",
       "    <tr>\n",
       "      <th>...</th>\n",
       "      <td>...</td>\n",
       "      <td>...</td>\n",
       "      <td>...</td>\n",
       "      <td>...</td>\n",
       "      <td>...</td>\n",
       "      <td>...</td>\n",
       "      <td>...</td>\n",
       "      <td>...</td>\n",
       "      <td>...</td>\n",
       "      <td>...</td>\n",
       "      <td>...</td>\n",
       "      <td>...</td>\n",
       "      <td>...</td>\n",
       "      <td>...</td>\n",
       "      <td>...</td>\n",
       "      <td>...</td>\n",
       "      <td>...</td>\n",
       "      <td>...</td>\n",
       "    </tr>\n",
       "    <tr>\n",
       "      <th>2021-04-21 09:13:54-05:00</th>\n",
       "      <td>2021-04-21</td>\n",
       "      <td>09:13:54</td>\n",
       "      <td>python/dataframes</td>\n",
       "      <td>1</td>\n",
       "      <td>28.0</td>\n",
       "      <td>70.121.199.82</td>\n",
       "      <td>28.0</td>\n",
       "      <td>Staff</td>\n",
       "      <td>#</td>\n",
       "      <td>2014-02-04</td>\n",
       "      <td>2014-02-04</td>\n",
       "      <td>2018-12-06 17:04:19</td>\n",
       "      <td>2018-12-06 17:04:19</td>\n",
       "      <td>2.0</td>\n",
       "      <td>Java Full Stack Web Dev</td>\n",
       "      <td>java</td>\n",
       "      <td>9</td>\n",
       "      <td>Wednesday</td>\n",
       "    </tr>\n",
       "    <tr>\n",
       "      <th>2021-04-21 10:32:19-05:00</th>\n",
       "      <td>2021-04-21</td>\n",
       "      <td>10:32:19</td>\n",
       "      <td>/</td>\n",
       "      <td>1</td>\n",
       "      <td>28.0</td>\n",
       "      <td>70.121.199.82</td>\n",
       "      <td>28.0</td>\n",
       "      <td>Staff</td>\n",
       "      <td>#</td>\n",
       "      <td>2014-02-04</td>\n",
       "      <td>2014-02-04</td>\n",
       "      <td>2018-12-06 17:04:19</td>\n",
       "      <td>2018-12-06 17:04:19</td>\n",
       "      <td>2.0</td>\n",
       "      <td>Java Full Stack Web Dev</td>\n",
       "      <td>java</td>\n",
       "      <td>10</td>\n",
       "      <td>Wednesday</td>\n",
       "    </tr>\n",
       "    <tr>\n",
       "      <th>2021-04-21 10:32:22-05:00</th>\n",
       "      <td>2021-04-21</td>\n",
       "      <td>10:32:22</td>\n",
       "      <td>sql/mysql-overview</td>\n",
       "      <td>1</td>\n",
       "      <td>28.0</td>\n",
       "      <td>70.121.199.82</td>\n",
       "      <td>28.0</td>\n",
       "      <td>Staff</td>\n",
       "      <td>#</td>\n",
       "      <td>2014-02-04</td>\n",
       "      <td>2014-02-04</td>\n",
       "      <td>2018-12-06 17:04:19</td>\n",
       "      <td>2018-12-06 17:04:19</td>\n",
       "      <td>2.0</td>\n",
       "      <td>Java Full Stack Web Dev</td>\n",
       "      <td>java</td>\n",
       "      <td>10</td>\n",
       "      <td>Wednesday</td>\n",
       "    </tr>\n",
       "    <tr>\n",
       "      <th>2021-04-21 10:32:29-05:00</th>\n",
       "      <td>2021-04-21</td>\n",
       "      <td>10:32:29</td>\n",
       "      <td>python/dataframes</td>\n",
       "      <td>1</td>\n",
       "      <td>28.0</td>\n",
       "      <td>70.121.199.82</td>\n",
       "      <td>28.0</td>\n",
       "      <td>Staff</td>\n",
       "      <td>#</td>\n",
       "      <td>2014-02-04</td>\n",
       "      <td>2014-02-04</td>\n",
       "      <td>2018-12-06 17:04:19</td>\n",
       "      <td>2018-12-06 17:04:19</td>\n",
       "      <td>2.0</td>\n",
       "      <td>Java Full Stack Web Dev</td>\n",
       "      <td>java</td>\n",
       "      <td>10</td>\n",
       "      <td>Wednesday</td>\n",
       "    </tr>\n",
       "    <tr>\n",
       "      <th>2021-04-21 10:32:48-05:00</th>\n",
       "      <td>2021-04-21</td>\n",
       "      <td>10:32:48</td>\n",
       "      <td>python/advanced-dataframes</td>\n",
       "      <td>1</td>\n",
       "      <td>28.0</td>\n",
       "      <td>70.121.199.82</td>\n",
       "      <td>28.0</td>\n",
       "      <td>Staff</td>\n",
       "      <td>#</td>\n",
       "      <td>2014-02-04</td>\n",
       "      <td>2014-02-04</td>\n",
       "      <td>2018-12-06 17:04:19</td>\n",
       "      <td>2018-12-06 17:04:19</td>\n",
       "      <td>2.0</td>\n",
       "      <td>Java Full Stack Web Dev</td>\n",
       "      <td>java</td>\n",
       "      <td>10</td>\n",
       "      <td>Wednesday</td>\n",
       "    </tr>\n",
       "  </tbody>\n",
       "</table>\n",
       "<p>7404 rows × 18 columns</p>\n",
       "</div>"
      ],
      "text/plain": [
       "                                 date      time  \\\n",
       "datetime                                          \n",
       "2018-01-26 09:55:03-06:00  2018-01-26  09:55:03   \n",
       "2018-01-26 09:56:02-06:00  2018-01-26  09:56:02   \n",
       "2018-01-26 09:56:05-06:00  2018-01-26  09:56:05   \n",
       "2018-01-26 09:56:06-06:00  2018-01-26  09:56:06   \n",
       "2018-01-26 10:40:15-06:00  2018-01-26  10:40:15   \n",
       "...                               ...       ...   \n",
       "2021-04-21 09:13:54-05:00  2021-04-21  09:13:54   \n",
       "2021-04-21 10:32:19-05:00  2021-04-21  10:32:19   \n",
       "2021-04-21 10:32:22-05:00  2021-04-21  10:32:22   \n",
       "2021-04-21 10:32:29-05:00  2021-04-21  10:32:29   \n",
       "2021-04-21 10:32:48-05:00  2021-04-21  10:32:48   \n",
       "\n",
       "                                                          path  user_id  \\\n",
       "datetime                                                                  \n",
       "2018-01-26 09:55:03-06:00                                    /        1   \n",
       "2018-01-26 09:56:02-06:00                              java-ii        1   \n",
       "2018-01-26 09:56:05-06:00  java-ii/object-oriented-programming        1   \n",
       "2018-01-26 09:56:06-06:00   slides/object_oriented_programming        1   \n",
       "2018-01-26 10:40:15-06:00               javascript-i/functions        1   \n",
       "...                                                        ...      ...   \n",
       "2021-04-21 09:13:54-05:00                    python/dataframes        1   \n",
       "2021-04-21 10:32:19-05:00                                    /        1   \n",
       "2021-04-21 10:32:22-05:00                   sql/mysql-overview        1   \n",
       "2021-04-21 10:32:29-05:00                    python/dataframes        1   \n",
       "2021-04-21 10:32:48-05:00           python/advanced-dataframes        1   \n",
       "\n",
       "                           cohort_id             ip    id     name     slack  \\\n",
       "datetime                                                                       \n",
       "2018-01-26 09:55:03-06:00        8.0   97.105.19.61   8.0  Hampton  #hampton   \n",
       "2018-01-26 09:56:02-06:00        8.0   97.105.19.61   8.0  Hampton  #hampton   \n",
       "2018-01-26 09:56:05-06:00        8.0   97.105.19.61   8.0  Hampton  #hampton   \n",
       "2018-01-26 09:56:06-06:00        8.0   97.105.19.61   8.0  Hampton  #hampton   \n",
       "2018-01-26 10:40:15-06:00        8.0   97.105.19.61   8.0  Hampton  #hampton   \n",
       "...                              ...            ...   ...      ...       ...   \n",
       "2021-04-21 09:13:54-05:00       28.0  70.121.199.82  28.0    Staff         #   \n",
       "2021-04-21 10:32:19-05:00       28.0  70.121.199.82  28.0    Staff         #   \n",
       "2021-04-21 10:32:22-05:00       28.0  70.121.199.82  28.0    Staff         #   \n",
       "2021-04-21 10:32:29-05:00       28.0  70.121.199.82  28.0    Staff         #   \n",
       "2021-04-21 10:32:48-05:00       28.0  70.121.199.82  28.0    Staff         #   \n",
       "\n",
       "                          start_date   end_date           created_at  \\\n",
       "datetime                                                               \n",
       "2018-01-26 09:55:03-06:00 2015-09-22 2016-02-06  2016-06-14 19:52:26   \n",
       "2018-01-26 09:56:02-06:00 2015-09-22 2016-02-06  2016-06-14 19:52:26   \n",
       "2018-01-26 09:56:05-06:00 2015-09-22 2016-02-06  2016-06-14 19:52:26   \n",
       "2018-01-26 09:56:06-06:00 2015-09-22 2016-02-06  2016-06-14 19:52:26   \n",
       "2018-01-26 10:40:15-06:00 2015-09-22 2016-02-06  2016-06-14 19:52:26   \n",
       "...                              ...        ...                  ...   \n",
       "2021-04-21 09:13:54-05:00 2014-02-04 2014-02-04  2018-12-06 17:04:19   \n",
       "2021-04-21 10:32:19-05:00 2014-02-04 2014-02-04  2018-12-06 17:04:19   \n",
       "2021-04-21 10:32:22-05:00 2014-02-04 2014-02-04  2018-12-06 17:04:19   \n",
       "2021-04-21 10:32:29-05:00 2014-02-04 2014-02-04  2018-12-06 17:04:19   \n",
       "2021-04-21 10:32:48-05:00 2014-02-04 2014-02-04  2018-12-06 17:04:19   \n",
       "\n",
       "                                    updated_at  program_id  \\\n",
       "datetime                                                     \n",
       "2018-01-26 09:55:03-06:00  2016-06-14 19:52:26         1.0   \n",
       "2018-01-26 09:56:02-06:00  2016-06-14 19:52:26         1.0   \n",
       "2018-01-26 09:56:05-06:00  2016-06-14 19:52:26         1.0   \n",
       "2018-01-26 09:56:06-06:00  2016-06-14 19:52:26         1.0   \n",
       "2018-01-26 10:40:15-06:00  2016-06-14 19:52:26         1.0   \n",
       "...                                        ...         ...   \n",
       "2021-04-21 09:13:54-05:00  2018-12-06 17:04:19         2.0   \n",
       "2021-04-21 10:32:19-05:00  2018-12-06 17:04:19         2.0   \n",
       "2021-04-21 10:32:22-05:00  2018-12-06 17:04:19         2.0   \n",
       "2021-04-21 10:32:29-05:00  2018-12-06 17:04:19         2.0   \n",
       "2021-04-21 10:32:48-05:00  2018-12-06 17:04:19         2.0   \n",
       "\n",
       "                                       course_name course_subdomain  hour  \\\n",
       "datetime                                                                    \n",
       "2018-01-26 09:55:03-06:00   PHP Full Srack Web Dev              php     9   \n",
       "2018-01-26 09:56:02-06:00   PHP Full Srack Web Dev              php     9   \n",
       "2018-01-26 09:56:05-06:00   PHP Full Srack Web Dev              php     9   \n",
       "2018-01-26 09:56:06-06:00   PHP Full Srack Web Dev              php     9   \n",
       "2018-01-26 10:40:15-06:00   PHP Full Srack Web Dev              php    10   \n",
       "...                                            ...              ...   ...   \n",
       "2021-04-21 09:13:54-05:00  Java Full Stack Web Dev             java     9   \n",
       "2021-04-21 10:32:19-05:00  Java Full Stack Web Dev             java    10   \n",
       "2021-04-21 10:32:22-05:00  Java Full Stack Web Dev             java    10   \n",
       "2021-04-21 10:32:29-05:00  Java Full Stack Web Dev             java    10   \n",
       "2021-04-21 10:32:48-05:00  Java Full Stack Web Dev             java    10   \n",
       "\n",
       "                             weekday  \n",
       "datetime                              \n",
       "2018-01-26 09:55:03-06:00     Friday  \n",
       "2018-01-26 09:56:02-06:00     Friday  \n",
       "2018-01-26 09:56:05-06:00     Friday  \n",
       "2018-01-26 09:56:06-06:00     Friday  \n",
       "2018-01-26 10:40:15-06:00     Friday  \n",
       "...                              ...  \n",
       "2021-04-21 09:13:54-05:00  Wednesday  \n",
       "2021-04-21 10:32:19-05:00  Wednesday  \n",
       "2021-04-21 10:32:22-05:00  Wednesday  \n",
       "2021-04-21 10:32:29-05:00  Wednesday  \n",
       "2021-04-21 10:32:48-05:00  Wednesday  \n",
       "\n",
       "[7404 rows x 18 columns]"
      ]
     },
     "execution_count": 47,
     "metadata": {},
     "output_type": "execute_result"
    }
   ],
   "source": [
    "# Dataframe filtered for users who only accessed the curriculum once\n",
    "infrequent_users_df = df[df.user_id.isin(not_reading_users)]\n",
    "infrequent_users_df"
   ]
  },
  {
   "cell_type": "code",
   "execution_count": 77,
   "id": "30c04978",
   "metadata": {},
   "outputs": [
    {
     "data": {
      "text/plain": [
       "Text(0.5, 1.0, 'Time of Activity')"
      ]
     },
     "execution_count": 77,
     "metadata": {},
     "output_type": "execute_result"
    },
    {
     "data": {
      "image/png": "[encoded data removed]",
      "text/plain": [
       "<Figure size 432x288 with 1 Axes>"
      ]
     },
     "metadata": {
      "needs_background": "light"
     },
     "output_type": "display_data"
    }
   ],
   "source": [
    "# The infrequent users don't have odd hours of use\n",
    "infrequent_users_df.hour.hist()\n",
    "plt.ylabel('Accessions')\n",
    "plt.xlabel('Hour of Day')\n",
    "plt.title('Time of Activity')"
   ]
  },
  {
   "cell_type": "code",
   "execution_count": 49,
   "id": "577fb103",
   "metadata": {},
   "outputs": [
    {
     "data": {
      "text/html": [
       "<div>\n",
       "<style scoped>\n",
       "    .dataframe tbody tr th:only-of-type {\n",
       "        vertical-align: middle;\n",
       "    }\n",
       "\n",
       "    .dataframe tbody tr th {\n",
       "        vertical-align: top;\n",
       "    }\n",
       "\n",
       "    .dataframe thead th {\n",
       "        text-align: right;\n",
       "    }\n",
       "</style>\n",
       "<table border=\"1\" class=\"dataframe\">\n",
       "  <thead>\n",
       "    <tr style=\"text-align: right;\">\n",
       "      <th></th>\n",
       "      <th>date</th>\n",
       "      <th>time</th>\n",
       "      <th>path</th>\n",
       "      <th>user_id</th>\n",
       "      <th>cohort_id</th>\n",
       "      <th>ip</th>\n",
       "      <th>id</th>\n",
       "      <th>name</th>\n",
       "      <th>slack</th>\n",
       "      <th>start_date</th>\n",
       "      <th>end_date</th>\n",
       "      <th>created_at</th>\n",
       "      <th>updated_at</th>\n",
       "      <th>program_id</th>\n",
       "      <th>course_name</th>\n",
       "      <th>course_subdomain</th>\n",
       "      <th>hour</th>\n",
       "      <th>weekday</th>\n",
       "    </tr>\n",
       "    <tr>\n",
       "      <th>datetime</th>\n",
       "      <th></th>\n",
       "      <th></th>\n",
       "      <th></th>\n",
       "      <th></th>\n",
       "      <th></th>\n",
       "      <th></th>\n",
       "      <th></th>\n",
       "      <th></th>\n",
       "      <th></th>\n",
       "      <th></th>\n",
       "      <th></th>\n",
       "      <th></th>\n",
       "      <th></th>\n",
       "      <th></th>\n",
       "      <th></th>\n",
       "      <th></th>\n",
       "      <th></th>\n",
       "      <th></th>\n",
       "    </tr>\n",
       "  </thead>\n",
       "  <tbody>\n",
       "    <tr>\n",
       "      <th>2020-05-18 09:56:10-05:00</th>\n",
       "      <td>2020-05-18</td>\n",
       "      <td>09:56:10</td>\n",
       "      <td>loguout</td>\n",
       "      <td>652</td>\n",
       "      <td>28.0</td>\n",
       "      <td>71.150.217.33</td>\n",
       "      <td>28.0</td>\n",
       "      <td>Staff</td>\n",
       "      <td>#</td>\n",
       "      <td>2014-02-04</td>\n",
       "      <td>2014-02-04</td>\n",
       "      <td>2018-12-06 17:04:19</td>\n",
       "      <td>2018-12-06 17:04:19</td>\n",
       "      <td>2.0</td>\n",
       "      <td>Java Full Stack Web Dev</td>\n",
       "      <td>java</td>\n",
       "      <td>9</td>\n",
       "      <td>Monday</td>\n",
       "    </tr>\n",
       "  </tbody>\n",
       "</table>\n",
       "</div>"
      ],
      "text/plain": [
       "                                 date      time     path  user_id  cohort_id  \\\n",
       "datetime                                                                       \n",
       "2020-05-18 09:56:10-05:00  2020-05-18  09:56:10  loguout      652       28.0   \n",
       "\n",
       "                                      ip    id   name slack start_date  \\\n",
       "datetime                                                                 \n",
       "2020-05-18 09:56:10-05:00  71.150.217.33  28.0  Staff     # 2014-02-04   \n",
       "\n",
       "                            end_date           created_at  \\\n",
       "datetime                                                    \n",
       "2020-05-18 09:56:10-05:00 2014-02-04  2018-12-06 17:04:19   \n",
       "\n",
       "                                    updated_at  program_id  \\\n",
       "datetime                                                     \n",
       "2020-05-18 09:56:10-05:00  2018-12-06 17:04:19         2.0   \n",
       "\n",
       "                                       course_name course_subdomain  hour  \\\n",
       "datetime                                                                    \n",
       "2020-05-18 09:56:10-05:00  Java Full Stack Web Dev             java     9   \n",
       "\n",
       "                          weekday  \n",
       "datetime                           \n",
       "2020-05-18 09:56:10-05:00  Monday  "
      ]
     },
     "execution_count": 49,
     "metadata": {},
     "output_type": "execute_result"
    }
   ],
   "source": [
    "# This users start date and end date are the same\n",
    "df[df.user_id == 652]"
   ]
  },
  {
   "cell_type": "code",
   "execution_count": 50,
   "id": "47926522",
   "metadata": {},
   "outputs": [
    {
     "data": {
      "text/html": [
       "<div>\n",
       "<style scoped>\n",
       "    .dataframe tbody tr th:only-of-type {\n",
       "        vertical-align: middle;\n",
       "    }\n",
       "\n",
       "    .dataframe tbody tr th {\n",
       "        vertical-align: top;\n",
       "    }\n",
       "\n",
       "    .dataframe thead th {\n",
       "        text-align: right;\n",
       "    }\n",
       "</style>\n",
       "<table border=\"1\" class=\"dataframe\">\n",
       "  <thead>\n",
       "    <tr style=\"text-align: right;\">\n",
       "      <th></th>\n",
       "      <th>date</th>\n",
       "      <th>time</th>\n",
       "      <th>path</th>\n",
       "      <th>user_id</th>\n",
       "      <th>cohort_id</th>\n",
       "      <th>ip</th>\n",
       "      <th>id</th>\n",
       "      <th>name</th>\n",
       "      <th>slack</th>\n",
       "      <th>start_date</th>\n",
       "      <th>end_date</th>\n",
       "      <th>created_at</th>\n",
       "      <th>updated_at</th>\n",
       "      <th>program_id</th>\n",
       "      <th>course_name</th>\n",
       "      <th>course_subdomain</th>\n",
       "      <th>hour</th>\n",
       "      <th>weekday</th>\n",
       "    </tr>\n",
       "    <tr>\n",
       "      <th>datetime</th>\n",
       "      <th></th>\n",
       "      <th></th>\n",
       "      <th></th>\n",
       "      <th></th>\n",
       "      <th></th>\n",
       "      <th></th>\n",
       "      <th></th>\n",
       "      <th></th>\n",
       "      <th></th>\n",
       "      <th></th>\n",
       "      <th></th>\n",
       "      <th></th>\n",
       "      <th></th>\n",
       "      <th></th>\n",
       "      <th></th>\n",
       "      <th></th>\n",
       "      <th></th>\n",
       "      <th></th>\n",
       "    </tr>\n",
       "  </thead>\n",
       "  <tbody>\n",
       "    <tr>\n",
       "      <th>2018-06-19 09:21:08-05:00</th>\n",
       "      <td>2018-06-19</td>\n",
       "      <td>09:21:08</td>\n",
       "      <td>students/units/75/sub_units/268</td>\n",
       "      <td>212</td>\n",
       "      <td>1.0</td>\n",
       "      <td>170.248.173.247</td>\n",
       "      <td>1.0</td>\n",
       "      <td>Arches</td>\n",
       "      <td>#arches</td>\n",
       "      <td>2014-02-04</td>\n",
       "      <td>2014-04-22</td>\n",
       "      <td>2016-06-14 19:52:26</td>\n",
       "      <td>2016-06-14 19:52:26</td>\n",
       "      <td>1.0</td>\n",
       "      <td>PHP Full Srack Web Dev</td>\n",
       "      <td>php</td>\n",
       "      <td>9</td>\n",
       "      <td>Tuesday</td>\n",
       "    </tr>\n",
       "  </tbody>\n",
       "</table>\n",
       "</div>"
      ],
      "text/plain": [
       "                                 date      time  \\\n",
       "datetime                                          \n",
       "2018-06-19 09:21:08-05:00  2018-06-19  09:21:08   \n",
       "\n",
       "                                                      path  user_id  \\\n",
       "datetime                                                              \n",
       "2018-06-19 09:21:08-05:00  students/units/75/sub_units/268      212   \n",
       "\n",
       "                           cohort_id               ip   id    name    slack  \\\n",
       "datetime                                                                      \n",
       "2018-06-19 09:21:08-05:00        1.0  170.248.173.247  1.0  Arches  #arches   \n",
       "\n",
       "                          start_date   end_date           created_at  \\\n",
       "datetime                                                               \n",
       "2018-06-19 09:21:08-05:00 2014-02-04 2014-04-22  2016-06-14 19:52:26   \n",
       "\n",
       "                                    updated_at  program_id  \\\n",
       "datetime                                                     \n",
       "2018-06-19 09:21:08-05:00  2016-06-14 19:52:26         1.0   \n",
       "\n",
       "                                      course_name course_subdomain  hour  \\\n",
       "datetime                                                                   \n",
       "2018-06-19 09:21:08-05:00  PHP Full Srack Web Dev              php     9   \n",
       "\n",
       "                           weekday  \n",
       "datetime                            \n",
       "2018-06-19 09:21:08-05:00  Tuesday  "
      ]
     },
     "execution_count": 50,
     "metadata": {},
     "output_type": "execute_result"
    }
   ],
   "source": [
    "# This users start date and end date are separated by only 2 months\n",
    "# The created_at date is 2 years after the start date\n",
    "df[df.user_id == 212]"
   ]
  },
  {
   "cell_type": "code",
   "execution_count": 51,
   "id": "13d21ed2",
   "metadata": {},
   "outputs": [
    {
     "name": "stdout",
     "output_type": "stream",
     "text": [
      "Average duration of enrollment for infrequent users:  29 days 22:05:03.403565640\n"
     ]
    }
   ],
   "source": [
    "infrequent_duration = (infrequent_users_df.end_date - infrequent_users_df.start_date).mean()\n",
    "print('Average duration of enrollment for infrequent users: ', infrequent_duration)"
   ]
  },
  {
   "cell_type": "markdown",
   "id": "d56bfd01",
   "metadata": {},
   "source": [
    "### Users who only accessed the curiculum once had an average enrollment period of less than one month."
   ]
  },
  {
   "cell_type": "markdown",
   "id": "09896869",
   "metadata": {},
   "source": [
    "### 5. Is there any suspicious activity, such as users/machines/etc accessing the curriculum who shouldn’t be? Does it appear that any web-scraping is happening? Are there any suspicious IP addresses?"
   ]
  },
  {
   "cell_type": "code",
   "execution_count": 52,
   "id": "a85fdd93",
   "metadata": {},
   "outputs": [
    {
     "data": {
      "text/plain": [
       "11     17913\n",
       "64     16347\n",
       "53     12329\n",
       "314     7783\n",
       "1       7404\n",
       "495     6451\n",
       "581     6434\n",
       "428     5897\n",
       "344     5460\n",
       "248     5075\n",
       "Name: user_id, dtype: int64"
      ]
     },
     "execution_count": 52,
     "metadata": {},
     "output_type": "execute_result"
    }
   ],
   "source": [
    "df.user_id.value_counts().head(10)"
   ]
  },
  {
   "cell_type": "code",
   "execution_count": 53,
   "id": "36cce95f",
   "metadata": {},
   "outputs": [
    {
     "data": {
      "text/plain": [
       "917.6585117227319"
      ]
     },
     "execution_count": 53,
     "metadata": {},
     "output_type": "execute_result"
    }
   ],
   "source": [
    "# Some of the users access the curiculum far more often than the mean\n",
    "df.user_id.value_counts().mean()"
   ]
  },
  {
   "cell_type": "code",
   "execution_count": 54,
   "id": "e39e4d4a",
   "metadata": {},
   "outputs": [
    {
     "data": {
      "text/plain": [
       "1208.8713764066604"
      ]
     },
     "execution_count": 54,
     "metadata": {},
     "output_type": "execute_result"
    }
   ],
   "source": [
    "# The is great variation among the users\n",
    "df.user_id.value_counts().std()"
   ]
  },
  {
   "cell_type": "code",
   "execution_count": 56,
   "id": "4abae61d",
   "metadata": {},
   "outputs": [
    {
     "data": {
      "text/plain": [
       "ip\n",
       "97.105.19.58    284579\n",
       "97.105.19.61     61662\n",
       "Name: path, dtype: int64"
      ]
     },
     "execution_count": 56,
     "metadata": {},
     "output_type": "execute_result"
    }
   ],
   "source": [
    "# Organizing accessions by ip address\n",
    "pings_from_ip = df.groupby('ip').count()['path'].sort_values(ascending=False)\n",
    "\n",
    "# multiplier for the standard deviation\n",
    "mult = 3\n",
    "\n",
    "# ip addresses whose activity is 3 standard deviations above the mean\n",
    "anomalous_ip = pings_from_ip[pings_from_ip > \n",
    "                             (pings_from_ip.mean() + mult * pings_from_ip.std())]\n",
    "anomalous_ip.head()"
   ]
  },
  {
   "cell_type": "code",
   "execution_count": 80,
   "id": "3657f9b1",
   "metadata": {},
   "outputs": [
    {
     "data": {
      "image/png": "[encoded data removed]",
      "text/plain": [
       "<Figure size 432x288 with 1 Axes>"
      ]
     },
     "metadata": {
      "needs_background": "light"
     },
     "output_type": "display_data"
    }
   ],
   "source": [
    "# Plotting the activity of the two anomalous ip addresses\n",
    "for idx in range(2):\n",
    "    plt.plot(df[df.ip == anomalous_ip.index[idx]].resample('M').count().iloc[:,0])\n",
    "plt.legend(range(2))\n",
    "plt.xticks(rotation = 90) # Rotates the x labels so that they don't overlap\n",
    "plt.ylabel('Accessions')\n",
    "plt.xlabel('Date')\n",
    "plt.title('Activity of Anomalous IP-addresses')\n",
    "plt.show()"
   ]
  },
  {
   "cell_type": "code",
   "execution_count": 58,
   "id": "afe40880",
   "metadata": {},
   "outputs": [
    {
     "data": {
      "image/png": "[encoded data removed]",
      "text/plain": [
       "<Figure size 432x288 with 1 Axes>"
      ]
     },
     "metadata": {
      "needs_background": "light"
     },
     "output_type": "display_data"
    }
   ],
   "source": [
    "# Plotting the activity of anomalous ip adresses with increased granularity;\n",
    "# by hour instead of by day\n",
    "for idx in range(2):\n",
    "    plt.plot(df[df.ip == anomalous_ip.index[idx]].resample('60Min').count().iloc[:,0])\n",
    "plt.legend(range(2))\n",
    "plt.show()"
   ]
  },
  {
   "cell_type": "markdown",
   "id": "534ff6ba",
   "metadata": {},
   "source": [
    "Two ip addresses have anomalous behavior, which is defined as three standard deviations above the mean. <br>\n",
    "They are requesting pages at a rate too fast for students to read ( up to 400 accessions in an hour). <br>\n",
    "They also have high activity over a long term."
   ]
  },
  {
   "cell_type": "code",
   "execution_count": 59,
   "id": "fdabc1c7",
   "metadata": {},
   "outputs": [
    {
     "data": {
      "text/html": [
       "<div>\n",
       "<style scoped>\n",
       "    .dataframe tbody tr th:only-of-type {\n",
       "        vertical-align: middle;\n",
       "    }\n",
       "\n",
       "    .dataframe tbody tr th {\n",
       "        vertical-align: top;\n",
       "    }\n",
       "\n",
       "    .dataframe thead th {\n",
       "        text-align: right;\n",
       "    }\n",
       "</style>\n",
       "<table border=\"1\" class=\"dataframe\">\n",
       "  <thead>\n",
       "    <tr style=\"text-align: right;\">\n",
       "      <th></th>\n",
       "      <th>date</th>\n",
       "      <th>time</th>\n",
       "      <th>path</th>\n",
       "      <th>user_id</th>\n",
       "      <th>cohort_id</th>\n",
       "      <th>ip</th>\n",
       "      <th>id</th>\n",
       "      <th>name</th>\n",
       "      <th>slack</th>\n",
       "      <th>start_date</th>\n",
       "      <th>end_date</th>\n",
       "      <th>created_at</th>\n",
       "      <th>updated_at</th>\n",
       "      <th>program_id</th>\n",
       "      <th>course_name</th>\n",
       "      <th>course_subdomain</th>\n",
       "      <th>hour</th>\n",
       "      <th>weekday</th>\n",
       "    </tr>\n",
       "    <tr>\n",
       "      <th>datetime</th>\n",
       "      <th></th>\n",
       "      <th></th>\n",
       "      <th></th>\n",
       "      <th></th>\n",
       "      <th></th>\n",
       "      <th></th>\n",
       "      <th></th>\n",
       "      <th></th>\n",
       "      <th></th>\n",
       "      <th></th>\n",
       "      <th></th>\n",
       "      <th></th>\n",
       "      <th></th>\n",
       "      <th></th>\n",
       "      <th></th>\n",
       "      <th></th>\n",
       "      <th></th>\n",
       "      <th></th>\n",
       "    </tr>\n",
       "  </thead>\n",
       "  <tbody>\n",
       "    <tr>\n",
       "      <th>2018-07-16 07:51:57-05:00</th>\n",
       "      <td>2018-07-16</td>\n",
       "      <td>07:51:57</td>\n",
       "      <td>javascript-ii/promises</td>\n",
       "      <td>211</td>\n",
       "      <td>1.0</td>\n",
       "      <td>97.105.19.58</td>\n",
       "      <td>1.0</td>\n",
       "      <td>Arches</td>\n",
       "      <td>#arches</td>\n",
       "      <td>2014-02-04</td>\n",
       "      <td>2014-04-22</td>\n",
       "      <td>2016-06-14 19:52:26</td>\n",
       "      <td>2016-06-14 19:52:26</td>\n",
       "      <td>1.0</td>\n",
       "      <td>PHP Full Srack Web Dev</td>\n",
       "      <td>php</td>\n",
       "      <td>7</td>\n",
       "      <td>Monday</td>\n",
       "    </tr>\n",
       "    <tr>\n",
       "      <th>2018-07-16 07:58:03-05:00</th>\n",
       "      <td>2018-07-16</td>\n",
       "      <td>07:58:03</td>\n",
       "      <td>javascript-ii/map-filter-reduce</td>\n",
       "      <td>211</td>\n",
       "      <td>1.0</td>\n",
       "      <td>97.105.19.58</td>\n",
       "      <td>1.0</td>\n",
       "      <td>Arches</td>\n",
       "      <td>#arches</td>\n",
       "      <td>2014-02-04</td>\n",
       "      <td>2014-04-22</td>\n",
       "      <td>2016-06-14 19:52:26</td>\n",
       "      <td>2016-06-14 19:52:26</td>\n",
       "      <td>1.0</td>\n",
       "      <td>PHP Full Srack Web Dev</td>\n",
       "      <td>php</td>\n",
       "      <td>7</td>\n",
       "      <td>Monday</td>\n",
       "    </tr>\n",
       "    <tr>\n",
       "      <th>2018-07-16 07:59:50-05:00</th>\n",
       "      <td>2018-07-16</td>\n",
       "      <td>07:59:50</td>\n",
       "      <td>javascript-ii/promises</td>\n",
       "      <td>211</td>\n",
       "      <td>1.0</td>\n",
       "      <td>97.105.19.58</td>\n",
       "      <td>1.0</td>\n",
       "      <td>Arches</td>\n",
       "      <td>#arches</td>\n",
       "      <td>2014-02-04</td>\n",
       "      <td>2014-04-22</td>\n",
       "      <td>2016-06-14 19:52:26</td>\n",
       "      <td>2016-06-14 19:52:26</td>\n",
       "      <td>1.0</td>\n",
       "      <td>PHP Full Srack Web Dev</td>\n",
       "      <td>php</td>\n",
       "      <td>7</td>\n",
       "      <td>Monday</td>\n",
       "    </tr>\n",
       "    <tr>\n",
       "      <th>2018-07-16 08:07:37-05:00</th>\n",
       "      <td>2018-07-16</td>\n",
       "      <td>08:07:37</td>\n",
       "      <td>index.html</td>\n",
       "      <td>53</td>\n",
       "      <td>14.0</td>\n",
       "      <td>97.105.19.58</td>\n",
       "      <td>14.0</td>\n",
       "      <td>Lassen</td>\n",
       "      <td>#lassen</td>\n",
       "      <td>2016-07-18</td>\n",
       "      <td>2016-11-10</td>\n",
       "      <td>2016-07-18 19:06:27</td>\n",
       "      <td>2016-07-18 19:06:27</td>\n",
       "      <td>1.0</td>\n",
       "      <td>PHP Full Srack Web Dev</td>\n",
       "      <td>php</td>\n",
       "      <td>8</td>\n",
       "      <td>Monday</td>\n",
       "    </tr>\n",
       "    <tr>\n",
       "      <th>2018-07-16 08:07:41-05:00</th>\n",
       "      <td>2018-07-16</td>\n",
       "      <td>08:07:41</td>\n",
       "      <td>javascript-ii</td>\n",
       "      <td>53</td>\n",
       "      <td>14.0</td>\n",
       "      <td>97.105.19.58</td>\n",
       "      <td>14.0</td>\n",
       "      <td>Lassen</td>\n",
       "      <td>#lassen</td>\n",
       "      <td>2016-07-18</td>\n",
       "      <td>2016-11-10</td>\n",
       "      <td>2016-07-18 19:06:27</td>\n",
       "      <td>2016-07-18 19:06:27</td>\n",
       "      <td>1.0</td>\n",
       "      <td>PHP Full Srack Web Dev</td>\n",
       "      <td>php</td>\n",
       "      <td>8</td>\n",
       "      <td>Monday</td>\n",
       "    </tr>\n",
       "    <tr>\n",
       "      <th>...</th>\n",
       "      <td>...</td>\n",
       "      <td>...</td>\n",
       "      <td>...</td>\n",
       "      <td>...</td>\n",
       "      <td>...</td>\n",
       "      <td>...</td>\n",
       "      <td>...</td>\n",
       "      <td>...</td>\n",
       "      <td>...</td>\n",
       "      <td>...</td>\n",
       "      <td>...</td>\n",
       "      <td>...</td>\n",
       "      <td>...</td>\n",
       "      <td>...</td>\n",
       "      <td>...</td>\n",
       "      <td>...</td>\n",
       "      <td>...</td>\n",
       "      <td>...</td>\n",
       "    </tr>\n",
       "    <tr>\n",
       "      <th>2020-03-23 15:10:09-05:00</th>\n",
       "      <td>2020-03-23</td>\n",
       "      <td>15:10:09</td>\n",
       "      <td>toc</td>\n",
       "      <td>625</td>\n",
       "      <td>57.0</td>\n",
       "      <td>97.105.19.58</td>\n",
       "      <td>57.0</td>\n",
       "      <td>Ganymede</td>\n",
       "      <td>#ganymede</td>\n",
       "      <td>2020-03-23</td>\n",
       "      <td>2020-08-20</td>\n",
       "      <td>2020-03-23 17:52:16</td>\n",
       "      <td>2020-03-23 17:52:16</td>\n",
       "      <td>2.0</td>\n",
       "      <td>Java Full Stack Web Dev</td>\n",
       "      <td>java</td>\n",
       "      <td>15</td>\n",
       "      <td>Monday</td>\n",
       "    </tr>\n",
       "    <tr>\n",
       "      <th>2020-03-23 15:10:18-05:00</th>\n",
       "      <td>2020-03-23</td>\n",
       "      <td>15:10:18</td>\n",
       "      <td>toc</td>\n",
       "      <td>623</td>\n",
       "      <td>57.0</td>\n",
       "      <td>97.105.19.58</td>\n",
       "      <td>57.0</td>\n",
       "      <td>Ganymede</td>\n",
       "      <td>#ganymede</td>\n",
       "      <td>2020-03-23</td>\n",
       "      <td>2020-08-20</td>\n",
       "      <td>2020-03-23 17:52:16</td>\n",
       "      <td>2020-03-23 17:52:16</td>\n",
       "      <td>2.0</td>\n",
       "      <td>Java Full Stack Web Dev</td>\n",
       "      <td>java</td>\n",
       "      <td>15</td>\n",
       "      <td>Monday</td>\n",
       "    </tr>\n",
       "    <tr>\n",
       "      <th>2020-03-23 15:20:39-05:00</th>\n",
       "      <td>2020-03-23</td>\n",
       "      <td>15:20:39</td>\n",
       "      <td>/</td>\n",
       "      <td>627</td>\n",
       "      <td>57.0</td>\n",
       "      <td>97.105.19.58</td>\n",
       "      <td>57.0</td>\n",
       "      <td>Ganymede</td>\n",
       "      <td>#ganymede</td>\n",
       "      <td>2020-03-23</td>\n",
       "      <td>2020-08-20</td>\n",
       "      <td>2020-03-23 17:52:16</td>\n",
       "      <td>2020-03-23 17:52:16</td>\n",
       "      <td>2.0</td>\n",
       "      <td>Java Full Stack Web Dev</td>\n",
       "      <td>java</td>\n",
       "      <td>15</td>\n",
       "      <td>Monday</td>\n",
       "    </tr>\n",
       "    <tr>\n",
       "      <th>2020-03-23 15:24:54-05:00</th>\n",
       "      <td>2020-03-23</td>\n",
       "      <td>15:24:54</td>\n",
       "      <td>/</td>\n",
       "      <td>628</td>\n",
       "      <td>57.0</td>\n",
       "      <td>97.105.19.58</td>\n",
       "      <td>57.0</td>\n",
       "      <td>Ganymede</td>\n",
       "      <td>#ganymede</td>\n",
       "      <td>2020-03-23</td>\n",
       "      <td>2020-08-20</td>\n",
       "      <td>2020-03-23 17:52:16</td>\n",
       "      <td>2020-03-23 17:52:16</td>\n",
       "      <td>2.0</td>\n",
       "      <td>Java Full Stack Web Dev</td>\n",
       "      <td>java</td>\n",
       "      <td>15</td>\n",
       "      <td>Monday</td>\n",
       "    </tr>\n",
       "    <tr>\n",
       "      <th>2020-03-23 16:07:31-05:00</th>\n",
       "      <td>2020-03-23</td>\n",
       "      <td>16:07:31</td>\n",
       "      <td>/</td>\n",
       "      <td>629</td>\n",
       "      <td>57.0</td>\n",
       "      <td>97.105.19.58</td>\n",
       "      <td>57.0</td>\n",
       "      <td>Ganymede</td>\n",
       "      <td>#ganymede</td>\n",
       "      <td>2020-03-23</td>\n",
       "      <td>2020-08-20</td>\n",
       "      <td>2020-03-23 17:52:16</td>\n",
       "      <td>2020-03-23 17:52:16</td>\n",
       "      <td>2.0</td>\n",
       "      <td>Java Full Stack Web Dev</td>\n",
       "      <td>java</td>\n",
       "      <td>16</td>\n",
       "      <td>Monday</td>\n",
       "    </tr>\n",
       "  </tbody>\n",
       "</table>\n",
       "<p>284579 rows × 18 columns</p>\n",
       "</div>"
      ],
      "text/plain": [
       "                                 date      time  \\\n",
       "datetime                                          \n",
       "2018-07-16 07:51:57-05:00  2018-07-16  07:51:57   \n",
       "2018-07-16 07:58:03-05:00  2018-07-16  07:58:03   \n",
       "2018-07-16 07:59:50-05:00  2018-07-16  07:59:50   \n",
       "2018-07-16 08:07:37-05:00  2018-07-16  08:07:37   \n",
       "2018-07-16 08:07:41-05:00  2018-07-16  08:07:41   \n",
       "...                               ...       ...   \n",
       "2020-03-23 15:10:09-05:00  2020-03-23  15:10:09   \n",
       "2020-03-23 15:10:18-05:00  2020-03-23  15:10:18   \n",
       "2020-03-23 15:20:39-05:00  2020-03-23  15:20:39   \n",
       "2020-03-23 15:24:54-05:00  2020-03-23  15:24:54   \n",
       "2020-03-23 16:07:31-05:00  2020-03-23  16:07:31   \n",
       "\n",
       "                                                      path  user_id  \\\n",
       "datetime                                                              \n",
       "2018-07-16 07:51:57-05:00           javascript-ii/promises      211   \n",
       "2018-07-16 07:58:03-05:00  javascript-ii/map-filter-reduce      211   \n",
       "2018-07-16 07:59:50-05:00           javascript-ii/promises      211   \n",
       "2018-07-16 08:07:37-05:00                       index.html       53   \n",
       "2018-07-16 08:07:41-05:00                    javascript-ii       53   \n",
       "...                                                    ...      ...   \n",
       "2020-03-23 15:10:09-05:00                              toc      625   \n",
       "2020-03-23 15:10:18-05:00                              toc      623   \n",
       "2020-03-23 15:20:39-05:00                                /      627   \n",
       "2020-03-23 15:24:54-05:00                                /      628   \n",
       "2020-03-23 16:07:31-05:00                                /      629   \n",
       "\n",
       "                           cohort_id            ip    id      name      slack  \\\n",
       "datetime                                                                        \n",
       "2018-07-16 07:51:57-05:00        1.0  97.105.19.58   1.0    Arches    #arches   \n",
       "2018-07-16 07:58:03-05:00        1.0  97.105.19.58   1.0    Arches    #arches   \n",
       "2018-07-16 07:59:50-05:00        1.0  97.105.19.58   1.0    Arches    #arches   \n",
       "2018-07-16 08:07:37-05:00       14.0  97.105.19.58  14.0    Lassen    #lassen   \n",
       "2018-07-16 08:07:41-05:00       14.0  97.105.19.58  14.0    Lassen    #lassen   \n",
       "...                              ...           ...   ...       ...        ...   \n",
       "2020-03-23 15:10:09-05:00       57.0  97.105.19.58  57.0  Ganymede  #ganymede   \n",
       "2020-03-23 15:10:18-05:00       57.0  97.105.19.58  57.0  Ganymede  #ganymede   \n",
       "2020-03-23 15:20:39-05:00       57.0  97.105.19.58  57.0  Ganymede  #ganymede   \n",
       "2020-03-23 15:24:54-05:00       57.0  97.105.19.58  57.0  Ganymede  #ganymede   \n",
       "2020-03-23 16:07:31-05:00       57.0  97.105.19.58  57.0  Ganymede  #ganymede   \n",
       "\n",
       "                          start_date   end_date           created_at  \\\n",
       "datetime                                                               \n",
       "2018-07-16 07:51:57-05:00 2014-02-04 2014-04-22  2016-06-14 19:52:26   \n",
       "2018-07-16 07:58:03-05:00 2014-02-04 2014-04-22  2016-06-14 19:52:26   \n",
       "2018-07-16 07:59:50-05:00 2014-02-04 2014-04-22  2016-06-14 19:52:26   \n",
       "2018-07-16 08:07:37-05:00 2016-07-18 2016-11-10  2016-07-18 19:06:27   \n",
       "2018-07-16 08:07:41-05:00 2016-07-18 2016-11-10  2016-07-18 19:06:27   \n",
       "...                              ...        ...                  ...   \n",
       "2020-03-23 15:10:09-05:00 2020-03-23 2020-08-20  2020-03-23 17:52:16   \n",
       "2020-03-23 15:10:18-05:00 2020-03-23 2020-08-20  2020-03-23 17:52:16   \n",
       "2020-03-23 15:20:39-05:00 2020-03-23 2020-08-20  2020-03-23 17:52:16   \n",
       "2020-03-23 15:24:54-05:00 2020-03-23 2020-08-20  2020-03-23 17:52:16   \n",
       "2020-03-23 16:07:31-05:00 2020-03-23 2020-08-20  2020-03-23 17:52:16   \n",
       "\n",
       "                                    updated_at  program_id  \\\n",
       "datetime                                                     \n",
       "2018-07-16 07:51:57-05:00  2016-06-14 19:52:26         1.0   \n",
       "2018-07-16 07:58:03-05:00  2016-06-14 19:52:26         1.0   \n",
       "2018-07-16 07:59:50-05:00  2016-06-14 19:52:26         1.0   \n",
       "2018-07-16 08:07:37-05:00  2016-07-18 19:06:27         1.0   \n",
       "2018-07-16 08:07:41-05:00  2016-07-18 19:06:27         1.0   \n",
       "...                                        ...         ...   \n",
       "2020-03-23 15:10:09-05:00  2020-03-23 17:52:16         2.0   \n",
       "2020-03-23 15:10:18-05:00  2020-03-23 17:52:16         2.0   \n",
       "2020-03-23 15:20:39-05:00  2020-03-23 17:52:16         2.0   \n",
       "2020-03-23 15:24:54-05:00  2020-03-23 17:52:16         2.0   \n",
       "2020-03-23 16:07:31-05:00  2020-03-23 17:52:16         2.0   \n",
       "\n",
       "                                       course_name course_subdomain  hour  \\\n",
       "datetime                                                                    \n",
       "2018-07-16 07:51:57-05:00   PHP Full Srack Web Dev              php     7   \n",
       "2018-07-16 07:58:03-05:00   PHP Full Srack Web Dev              php     7   \n",
       "2018-07-16 07:59:50-05:00   PHP Full Srack Web Dev              php     7   \n",
       "2018-07-16 08:07:37-05:00   PHP Full Srack Web Dev              php     8   \n",
       "2018-07-16 08:07:41-05:00   PHP Full Srack Web Dev              php     8   \n",
       "...                                            ...              ...   ...   \n",
       "2020-03-23 15:10:09-05:00  Java Full Stack Web Dev             java    15   \n",
       "2020-03-23 15:10:18-05:00  Java Full Stack Web Dev             java    15   \n",
       "2020-03-23 15:20:39-05:00  Java Full Stack Web Dev             java    15   \n",
       "2020-03-23 15:24:54-05:00  Java Full Stack Web Dev             java    15   \n",
       "2020-03-23 16:07:31-05:00  Java Full Stack Web Dev             java    16   \n",
       "\n",
       "                          weekday  \n",
       "datetime                           \n",
       "2018-07-16 07:51:57-05:00  Monday  \n",
       "2018-07-16 07:58:03-05:00  Monday  \n",
       "2018-07-16 07:59:50-05:00  Monday  \n",
       "2018-07-16 08:07:37-05:00  Monday  \n",
       "2018-07-16 08:07:41-05:00  Monday  \n",
       "...                           ...  \n",
       "2020-03-23 15:10:09-05:00  Monday  \n",
       "2020-03-23 15:10:18-05:00  Monday  \n",
       "2020-03-23 15:20:39-05:00  Monday  \n",
       "2020-03-23 15:24:54-05:00  Monday  \n",
       "2020-03-23 16:07:31-05:00  Monday  \n",
       "\n",
       "[284579 rows x 18 columns]"
      ]
     },
     "execution_count": 59,
     "metadata": {},
     "output_type": "execute_result"
    }
   ],
   "source": [
    "# Examining the first anomalous ip address\n",
    "\n",
    "# Multiple user id's\n",
    "# Multiple cohorts for those ip adresses\n",
    "# User_id and Cohort seem to change at the same time.\n",
    "# Sometimes there are multiple users within the same cohort.\n",
    "df[df.ip == '97.105.19.58']"
   ]
  },
  {
   "cell_type": "code",
   "execution_count": 60,
   "id": "a5e23e39",
   "metadata": {},
   "outputs": [
    {
     "data": {
      "text/html": [
       "<div>\n",
       "<style scoped>\n",
       "    .dataframe tbody tr th:only-of-type {\n",
       "        vertical-align: middle;\n",
       "    }\n",
       "\n",
       "    .dataframe tbody tr th {\n",
       "        vertical-align: top;\n",
       "    }\n",
       "\n",
       "    .dataframe thead th {\n",
       "        text-align: right;\n",
       "    }\n",
       "</style>\n",
       "<table border=\"1\" class=\"dataframe\">\n",
       "  <thead>\n",
       "    <tr style=\"text-align: right;\">\n",
       "      <th></th>\n",
       "      <th>date</th>\n",
       "      <th>time</th>\n",
       "      <th>path</th>\n",
       "      <th>user_id</th>\n",
       "      <th>cohort_id</th>\n",
       "      <th>ip</th>\n",
       "      <th>id</th>\n",
       "      <th>name</th>\n",
       "      <th>slack</th>\n",
       "      <th>start_date</th>\n",
       "      <th>end_date</th>\n",
       "      <th>created_at</th>\n",
       "      <th>updated_at</th>\n",
       "      <th>program_id</th>\n",
       "      <th>course_name</th>\n",
       "      <th>course_subdomain</th>\n",
       "      <th>hour</th>\n",
       "      <th>weekday</th>\n",
       "    </tr>\n",
       "    <tr>\n",
       "      <th>datetime</th>\n",
       "      <th></th>\n",
       "      <th></th>\n",
       "      <th></th>\n",
       "      <th></th>\n",
       "      <th></th>\n",
       "      <th></th>\n",
       "      <th></th>\n",
       "      <th></th>\n",
       "      <th></th>\n",
       "      <th></th>\n",
       "      <th></th>\n",
       "      <th></th>\n",
       "      <th></th>\n",
       "      <th></th>\n",
       "      <th></th>\n",
       "      <th></th>\n",
       "      <th></th>\n",
       "      <th></th>\n",
       "    </tr>\n",
       "  </thead>\n",
       "  <tbody>\n",
       "    <tr>\n",
       "      <th>2018-01-26 09:55:03-06:00</th>\n",
       "      <td>2018-01-26</td>\n",
       "      <td>09:55:03</td>\n",
       "      <td>/</td>\n",
       "      <td>1</td>\n",
       "      <td>8.0</td>\n",
       "      <td>97.105.19.61</td>\n",
       "      <td>8.0</td>\n",
       "      <td>Hampton</td>\n",
       "      <td>#hampton</td>\n",
       "      <td>2015-09-22</td>\n",
       "      <td>2016-02-06</td>\n",
       "      <td>2016-06-14 19:52:26</td>\n",
       "      <td>2016-06-14 19:52:26</td>\n",
       "      <td>1.0</td>\n",
       "      <td>PHP Full Srack Web Dev</td>\n",
       "      <td>php</td>\n",
       "      <td>9</td>\n",
       "      <td>Friday</td>\n",
       "    </tr>\n",
       "    <tr>\n",
       "      <th>2018-01-26 09:56:02-06:00</th>\n",
       "      <td>2018-01-26</td>\n",
       "      <td>09:56:02</td>\n",
       "      <td>java-ii</td>\n",
       "      <td>1</td>\n",
       "      <td>8.0</td>\n",
       "      <td>97.105.19.61</td>\n",
       "      <td>8.0</td>\n",
       "      <td>Hampton</td>\n",
       "      <td>#hampton</td>\n",
       "      <td>2015-09-22</td>\n",
       "      <td>2016-02-06</td>\n",
       "      <td>2016-06-14 19:52:26</td>\n",
       "      <td>2016-06-14 19:52:26</td>\n",
       "      <td>1.0</td>\n",
       "      <td>PHP Full Srack Web Dev</td>\n",
       "      <td>php</td>\n",
       "      <td>9</td>\n",
       "      <td>Friday</td>\n",
       "    </tr>\n",
       "    <tr>\n",
       "      <th>2018-01-26 09:56:05-06:00</th>\n",
       "      <td>2018-01-26</td>\n",
       "      <td>09:56:05</td>\n",
       "      <td>java-ii/object-oriented-programming</td>\n",
       "      <td>1</td>\n",
       "      <td>8.0</td>\n",
       "      <td>97.105.19.61</td>\n",
       "      <td>8.0</td>\n",
       "      <td>Hampton</td>\n",
       "      <td>#hampton</td>\n",
       "      <td>2015-09-22</td>\n",
       "      <td>2016-02-06</td>\n",
       "      <td>2016-06-14 19:52:26</td>\n",
       "      <td>2016-06-14 19:52:26</td>\n",
       "      <td>1.0</td>\n",
       "      <td>PHP Full Srack Web Dev</td>\n",
       "      <td>php</td>\n",
       "      <td>9</td>\n",
       "      <td>Friday</td>\n",
       "    </tr>\n",
       "    <tr>\n",
       "      <th>2018-01-26 09:56:06-06:00</th>\n",
       "      <td>2018-01-26</td>\n",
       "      <td>09:56:06</td>\n",
       "      <td>slides/object_oriented_programming</td>\n",
       "      <td>1</td>\n",
       "      <td>8.0</td>\n",
       "      <td>97.105.19.61</td>\n",
       "      <td>8.0</td>\n",
       "      <td>Hampton</td>\n",
       "      <td>#hampton</td>\n",
       "      <td>2015-09-22</td>\n",
       "      <td>2016-02-06</td>\n",
       "      <td>2016-06-14 19:52:26</td>\n",
       "      <td>2016-06-14 19:52:26</td>\n",
       "      <td>1.0</td>\n",
       "      <td>PHP Full Srack Web Dev</td>\n",
       "      <td>php</td>\n",
       "      <td>9</td>\n",
       "      <td>Friday</td>\n",
       "    </tr>\n",
       "    <tr>\n",
       "      <th>2018-01-26 09:56:24-06:00</th>\n",
       "      <td>2018-01-26</td>\n",
       "      <td>09:56:24</td>\n",
       "      <td>javascript-i/conditionals</td>\n",
       "      <td>2</td>\n",
       "      <td>22.0</td>\n",
       "      <td>97.105.19.61</td>\n",
       "      <td>22.0</td>\n",
       "      <td>Teddy</td>\n",
       "      <td>#teddy</td>\n",
       "      <td>2018-01-08</td>\n",
       "      <td>2018-05-17</td>\n",
       "      <td>2018-01-08 13:59:10</td>\n",
       "      <td>2018-01-08 13:59:10</td>\n",
       "      <td>2.0</td>\n",
       "      <td>Java Full Stack Web Dev</td>\n",
       "      <td>java</td>\n",
       "      <td>9</td>\n",
       "      <td>Friday</td>\n",
       "    </tr>\n",
       "    <tr>\n",
       "      <th>...</th>\n",
       "      <td>...</td>\n",
       "      <td>...</td>\n",
       "      <td>...</td>\n",
       "      <td>...</td>\n",
       "      <td>...</td>\n",
       "      <td>...</td>\n",
       "      <td>...</td>\n",
       "      <td>...</td>\n",
       "      <td>...</td>\n",
       "      <td>...</td>\n",
       "      <td>...</td>\n",
       "      <td>...</td>\n",
       "      <td>...</td>\n",
       "      <td>...</td>\n",
       "      <td>...</td>\n",
       "      <td>...</td>\n",
       "      <td>...</td>\n",
       "      <td>...</td>\n",
       "    </tr>\n",
       "    <tr>\n",
       "      <th>2018-07-13 16:30:55-05:00</th>\n",
       "      <td>2018-07-13</td>\n",
       "      <td>16:30:55</td>\n",
       "      <td>slides/object_oriented_programming</td>\n",
       "      <td>26</td>\n",
       "      <td>18.0</td>\n",
       "      <td>97.105.19.61</td>\n",
       "      <td>18.0</td>\n",
       "      <td>Pinnacles</td>\n",
       "      <td>#pinnacles</td>\n",
       "      <td>2017-03-27</td>\n",
       "      <td>2017-07-20</td>\n",
       "      <td>2017-03-28 00:33:12</td>\n",
       "      <td>2017-03-28 00:33:12</td>\n",
       "      <td>2.0</td>\n",
       "      <td>Java Full Stack Web Dev</td>\n",
       "      <td>java</td>\n",
       "      <td>16</td>\n",
       "      <td>Friday</td>\n",
       "    </tr>\n",
       "    <tr>\n",
       "      <th>2018-07-13 16:38:26-05:00</th>\n",
       "      <td>2018-07-13</td>\n",
       "      <td>16:38:26</td>\n",
       "      <td>/</td>\n",
       "      <td>130</td>\n",
       "      <td>23.0</td>\n",
       "      <td>97.105.19.61</td>\n",
       "      <td>23.0</td>\n",
       "      <td>Ulysses</td>\n",
       "      <td>#ulysses</td>\n",
       "      <td>2018-03-05</td>\n",
       "      <td>2018-07-19</td>\n",
       "      <td>2018-03-05 14:22:11</td>\n",
       "      <td>2018-03-05 14:22:11</td>\n",
       "      <td>2.0</td>\n",
       "      <td>Java Full Stack Web Dev</td>\n",
       "      <td>java</td>\n",
       "      <td>16</td>\n",
       "      <td>Friday</td>\n",
       "    </tr>\n",
       "    <tr>\n",
       "      <th>2018-07-13 16:38:29-05:00</th>\n",
       "      <td>2018-07-13</td>\n",
       "      <td>16:38:29</td>\n",
       "      <td>spring</td>\n",
       "      <td>130</td>\n",
       "      <td>23.0</td>\n",
       "      <td>97.105.19.61</td>\n",
       "      <td>23.0</td>\n",
       "      <td>Ulysses</td>\n",
       "      <td>#ulysses</td>\n",
       "      <td>2018-03-05</td>\n",
       "      <td>2018-07-19</td>\n",
       "      <td>2018-03-05 14:22:11</td>\n",
       "      <td>2018-03-05 14:22:11</td>\n",
       "      <td>2.0</td>\n",
       "      <td>Java Full Stack Web Dev</td>\n",
       "      <td>java</td>\n",
       "      <td>16</td>\n",
       "      <td>Friday</td>\n",
       "    </tr>\n",
       "    <tr>\n",
       "      <th>2018-07-13 16:39:45-05:00</th>\n",
       "      <td>2018-07-13</td>\n",
       "      <td>16:39:45</td>\n",
       "      <td>spring/extra-features/file-upload</td>\n",
       "      <td>130</td>\n",
       "      <td>23.0</td>\n",
       "      <td>97.105.19.61</td>\n",
       "      <td>23.0</td>\n",
       "      <td>Ulysses</td>\n",
       "      <td>#ulysses</td>\n",
       "      <td>2018-03-05</td>\n",
       "      <td>2018-07-19</td>\n",
       "      <td>2018-03-05 14:22:11</td>\n",
       "      <td>2018-03-05 14:22:11</td>\n",
       "      <td>2.0</td>\n",
       "      <td>Java Full Stack Web Dev</td>\n",
       "      <td>java</td>\n",
       "      <td>16</td>\n",
       "      <td>Friday</td>\n",
       "    </tr>\n",
       "    <tr>\n",
       "      <th>2018-07-13 16:44:26-05:00</th>\n",
       "      <td>2018-07-13</td>\n",
       "      <td>16:44:26</td>\n",
       "      <td>javascript-ii/promises</td>\n",
       "      <td>187</td>\n",
       "      <td>24.0</td>\n",
       "      <td>97.105.19.61</td>\n",
       "      <td>24.0</td>\n",
       "      <td>Voyageurs</td>\n",
       "      <td>#voyageurs</td>\n",
       "      <td>2018-05-29</td>\n",
       "      <td>2018-10-11</td>\n",
       "      <td>2018-05-25 22:25:57</td>\n",
       "      <td>2018-05-25 22:25:57</td>\n",
       "      <td>2.0</td>\n",
       "      <td>Java Full Stack Web Dev</td>\n",
       "      <td>java</td>\n",
       "      <td>16</td>\n",
       "      <td>Friday</td>\n",
       "    </tr>\n",
       "  </tbody>\n",
       "</table>\n",
       "<p>61662 rows × 18 columns</p>\n",
       "</div>"
      ],
      "text/plain": [
       "                                 date      time  \\\n",
       "datetime                                          \n",
       "2018-01-26 09:55:03-06:00  2018-01-26  09:55:03   \n",
       "2018-01-26 09:56:02-06:00  2018-01-26  09:56:02   \n",
       "2018-01-26 09:56:05-06:00  2018-01-26  09:56:05   \n",
       "2018-01-26 09:56:06-06:00  2018-01-26  09:56:06   \n",
       "2018-01-26 09:56:24-06:00  2018-01-26  09:56:24   \n",
       "...                               ...       ...   \n",
       "2018-07-13 16:30:55-05:00  2018-07-13  16:30:55   \n",
       "2018-07-13 16:38:26-05:00  2018-07-13  16:38:26   \n",
       "2018-07-13 16:38:29-05:00  2018-07-13  16:38:29   \n",
       "2018-07-13 16:39:45-05:00  2018-07-13  16:39:45   \n",
       "2018-07-13 16:44:26-05:00  2018-07-13  16:44:26   \n",
       "\n",
       "                                                          path  user_id  \\\n",
       "datetime                                                                  \n",
       "2018-01-26 09:55:03-06:00                                    /        1   \n",
       "2018-01-26 09:56:02-06:00                              java-ii        1   \n",
       "2018-01-26 09:56:05-06:00  java-ii/object-oriented-programming        1   \n",
       "2018-01-26 09:56:06-06:00   slides/object_oriented_programming        1   \n",
       "2018-01-26 09:56:24-06:00            javascript-i/conditionals        2   \n",
       "...                                                        ...      ...   \n",
       "2018-07-13 16:30:55-05:00   slides/object_oriented_programming       26   \n",
       "2018-07-13 16:38:26-05:00                                    /      130   \n",
       "2018-07-13 16:38:29-05:00                               spring      130   \n",
       "2018-07-13 16:39:45-05:00    spring/extra-features/file-upload      130   \n",
       "2018-07-13 16:44:26-05:00               javascript-ii/promises      187   \n",
       "\n",
       "                           cohort_id            ip    id       name  \\\n",
       "datetime                                                              \n",
       "2018-01-26 09:55:03-06:00        8.0  97.105.19.61   8.0    Hampton   \n",
       "2018-01-26 09:56:02-06:00        8.0  97.105.19.61   8.0    Hampton   \n",
       "2018-01-26 09:56:05-06:00        8.0  97.105.19.61   8.0    Hampton   \n",
       "2018-01-26 09:56:06-06:00        8.0  97.105.19.61   8.0    Hampton   \n",
       "2018-01-26 09:56:24-06:00       22.0  97.105.19.61  22.0      Teddy   \n",
       "...                              ...           ...   ...        ...   \n",
       "2018-07-13 16:30:55-05:00       18.0  97.105.19.61  18.0  Pinnacles   \n",
       "2018-07-13 16:38:26-05:00       23.0  97.105.19.61  23.0    Ulysses   \n",
       "2018-07-13 16:38:29-05:00       23.0  97.105.19.61  23.0    Ulysses   \n",
       "2018-07-13 16:39:45-05:00       23.0  97.105.19.61  23.0    Ulysses   \n",
       "2018-07-13 16:44:26-05:00       24.0  97.105.19.61  24.0  Voyageurs   \n",
       "\n",
       "                                slack start_date   end_date  \\\n",
       "datetime                                                      \n",
       "2018-01-26 09:55:03-06:00    #hampton 2015-09-22 2016-02-06   \n",
       "2018-01-26 09:56:02-06:00    #hampton 2015-09-22 2016-02-06   \n",
       "2018-01-26 09:56:05-06:00    #hampton 2015-09-22 2016-02-06   \n",
       "2018-01-26 09:56:06-06:00    #hampton 2015-09-22 2016-02-06   \n",
       "2018-01-26 09:56:24-06:00      #teddy 2018-01-08 2018-05-17   \n",
       "...                               ...        ...        ...   \n",
       "2018-07-13 16:30:55-05:00  #pinnacles 2017-03-27 2017-07-20   \n",
       "2018-07-13 16:38:26-05:00    #ulysses 2018-03-05 2018-07-19   \n",
       "2018-07-13 16:38:29-05:00    #ulysses 2018-03-05 2018-07-19   \n",
       "2018-07-13 16:39:45-05:00    #ulysses 2018-03-05 2018-07-19   \n",
       "2018-07-13 16:44:26-05:00  #voyageurs 2018-05-29 2018-10-11   \n",
       "\n",
       "                                    created_at           updated_at  \\\n",
       "datetime                                                              \n",
       "2018-01-26 09:55:03-06:00  2016-06-14 19:52:26  2016-06-14 19:52:26   \n",
       "2018-01-26 09:56:02-06:00  2016-06-14 19:52:26  2016-06-14 19:52:26   \n",
       "2018-01-26 09:56:05-06:00  2016-06-14 19:52:26  2016-06-14 19:52:26   \n",
       "2018-01-26 09:56:06-06:00  2016-06-14 19:52:26  2016-06-14 19:52:26   \n",
       "2018-01-26 09:56:24-06:00  2018-01-08 13:59:10  2018-01-08 13:59:10   \n",
       "...                                        ...                  ...   \n",
       "2018-07-13 16:30:55-05:00  2017-03-28 00:33:12  2017-03-28 00:33:12   \n",
       "2018-07-13 16:38:26-05:00  2018-03-05 14:22:11  2018-03-05 14:22:11   \n",
       "2018-07-13 16:38:29-05:00  2018-03-05 14:22:11  2018-03-05 14:22:11   \n",
       "2018-07-13 16:39:45-05:00  2018-03-05 14:22:11  2018-03-05 14:22:11   \n",
       "2018-07-13 16:44:26-05:00  2018-05-25 22:25:57  2018-05-25 22:25:57   \n",
       "\n",
       "                           program_id              course_name  \\\n",
       "datetime                                                         \n",
       "2018-01-26 09:55:03-06:00         1.0   PHP Full Srack Web Dev   \n",
       "2018-01-26 09:56:02-06:00         1.0   PHP Full Srack Web Dev   \n",
       "2018-01-26 09:56:05-06:00         1.0   PHP Full Srack Web Dev   \n",
       "2018-01-26 09:56:06-06:00         1.0   PHP Full Srack Web Dev   \n",
       "2018-01-26 09:56:24-06:00         2.0  Java Full Stack Web Dev   \n",
       "...                               ...                      ...   \n",
       "2018-07-13 16:30:55-05:00         2.0  Java Full Stack Web Dev   \n",
       "2018-07-13 16:38:26-05:00         2.0  Java Full Stack Web Dev   \n",
       "2018-07-13 16:38:29-05:00         2.0  Java Full Stack Web Dev   \n",
       "2018-07-13 16:39:45-05:00         2.0  Java Full Stack Web Dev   \n",
       "2018-07-13 16:44:26-05:00         2.0  Java Full Stack Web Dev   \n",
       "\n",
       "                          course_subdomain  hour weekday  \n",
       "datetime                                                  \n",
       "2018-01-26 09:55:03-06:00              php     9  Friday  \n",
       "2018-01-26 09:56:02-06:00              php     9  Friday  \n",
       "2018-01-26 09:56:05-06:00              php     9  Friday  \n",
       "2018-01-26 09:56:06-06:00              php     9  Friday  \n",
       "2018-01-26 09:56:24-06:00             java     9  Friday  \n",
       "...                                    ...   ...     ...  \n",
       "2018-07-13 16:30:55-05:00             java    16  Friday  \n",
       "2018-07-13 16:38:26-05:00             java    16  Friday  \n",
       "2018-07-13 16:38:29-05:00             java    16  Friday  \n",
       "2018-07-13 16:39:45-05:00             java    16  Friday  \n",
       "2018-07-13 16:44:26-05:00             java    16  Friday  \n",
       "\n",
       "[61662 rows x 18 columns]"
      ]
     },
     "execution_count": 60,
     "metadata": {},
     "output_type": "execute_result"
    }
   ],
   "source": [
    "# Examining the second anomalous ip address\n",
    "\n",
    "# Multiple user id's\n",
    "# Multiple cohorts for those users\n",
    "# User_id and Cohort seem to change at the same time.\n",
    "df[df.ip == '97.105.19.61']"
   ]
  },
  {
   "cell_type": "markdown",
   "id": "48c9e06a",
   "metadata": {},
   "source": [
    "### There are two anomalous ip addresses, which is defined as activity more than three standard deviations above the mean.\n",
    "### The likely explanation for the two anomalous ip addresses is that they belong to shared computers being used by multiple students over multiple cohorts.\n",
    "### I would recommend determining if these two machines belong to the school."
   ]
  },
  {
   "cell_type": "code",
   "execution_count": null,
   "id": "00ff567c",
   "metadata": {},
   "outputs": [],
   "source": []
  }
 ],
 "metadata": {
  "kernelspec": {
   "display_name": "Python 3",
   "language": "python",
   "name": "python3"
  },
  "language_info": {
   "codemirror_mode": {
    "name": "ipython",
    "version": 3
   },
   "file_extension": ".py",
   "mimetype": "text/x-python",
   "name": "python",
   "nbconvert_exporter": "python",
   "pygments_lexer": "ipython3",
   "version": "3.8.8"
  }
 },
 "nbformat": 4,
 "nbformat_minor": 5
}
